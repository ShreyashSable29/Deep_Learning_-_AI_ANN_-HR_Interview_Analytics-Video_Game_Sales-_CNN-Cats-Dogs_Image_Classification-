{
 "cells": [
  {
   "cell_type": "markdown",
   "id": "dea3b7a5",
   "metadata": {},
   "source": [
    "## ANN & CNN"
   ]
  },
  {
   "cell_type": "markdown",
   "id": "cd819c9c",
   "metadata": {},
   "source": [
    "### Q.1) Use the Dataset named HR Interview Analytics to predict the Status of the candidate (0 is not accepted and 1 is accepted). Build an Artificial Neural Network to predict the Status"
   ]
  },
  {
   "cell_type": "code",
   "execution_count": 1,
   "id": "0bd67099",
   "metadata": {},
   "outputs": [
    {
     "name": "stdout",
     "output_type": "stream",
     "text": [
      "Requirement already satisfied: tensorflow in c:\\users\\lenovo\\anaconda3\\lib\\site-packages (2.11.0)\n",
      "Requirement already satisfied: tensorflow-intel==2.11.0 in c:\\users\\lenovo\\anaconda3\\lib\\site-packages (from tensorflow) (2.11.0)\n",
      "Requirement already satisfied: tensorflow-io-gcs-filesystem>=0.23.1 in c:\\users\\lenovo\\anaconda3\\lib\\site-packages (from tensorflow-intel==2.11.0->tensorflow) (0.29.0)\n",
      "Requirement already satisfied: six>=1.12.0 in c:\\users\\lenovo\\anaconda3\\lib\\site-packages (from tensorflow-intel==2.11.0->tensorflow) (1.16.0)\n",
      "Requirement already satisfied: typing-extensions>=3.6.6 in c:\\users\\lenovo\\anaconda3\\lib\\site-packages (from tensorflow-intel==2.11.0->tensorflow) (4.3.0)\n",
      "Requirement already satisfied: grpcio<2.0,>=1.24.3 in c:\\users\\lenovo\\anaconda3\\lib\\site-packages (from tensorflow-intel==2.11.0->tensorflow) (1.51.1)\n",
      "Requirement already satisfied: astunparse>=1.6.0 in c:\\users\\lenovo\\anaconda3\\lib\\site-packages (from tensorflow-intel==2.11.0->tensorflow) (1.6.3)\n",
      "Requirement already satisfied: keras<2.12,>=2.11.0 in c:\\users\\lenovo\\anaconda3\\lib\\site-packages (from tensorflow-intel==2.11.0->tensorflow) (2.11.0)\n",
      "Requirement already satisfied: libclang>=13.0.0 in c:\\users\\lenovo\\anaconda3\\lib\\site-packages (from tensorflow-intel==2.11.0->tensorflow) (14.0.6)\n",
      "Requirement already satisfied: wrapt>=1.11.0 in c:\\users\\lenovo\\anaconda3\\lib\\site-packages (from tensorflow-intel==2.11.0->tensorflow) (1.14.1)\n",
      "Requirement already satisfied: google-pasta>=0.1.1 in c:\\users\\lenovo\\anaconda3\\lib\\site-packages (from tensorflow-intel==2.11.0->tensorflow) (0.2.0)\n",
      "Requirement already satisfied: termcolor>=1.1.0 in c:\\users\\lenovo\\anaconda3\\lib\\site-packages (from tensorflow-intel==2.11.0->tensorflow) (2.1.1)\n",
      "Requirement already satisfied: packaging in c:\\users\\lenovo\\anaconda3\\lib\\site-packages (from tensorflow-intel==2.11.0->tensorflow) (21.3)\n",
      "Requirement already satisfied: tensorflow-estimator<2.12,>=2.11.0 in c:\\users\\lenovo\\anaconda3\\lib\\site-packages (from tensorflow-intel==2.11.0->tensorflow) (2.11.0)\n",
      "Requirement already satisfied: protobuf<3.20,>=3.9.2 in c:\\users\\lenovo\\anaconda3\\lib\\site-packages (from tensorflow-intel==2.11.0->tensorflow) (3.19.6)\n",
      "Requirement already satisfied: flatbuffers>=2.0 in c:\\users\\lenovo\\anaconda3\\lib\\site-packages (from tensorflow-intel==2.11.0->tensorflow) (22.12.6)\n",
      "Requirement already satisfied: numpy>=1.20 in c:\\users\\lenovo\\anaconda3\\lib\\site-packages (from tensorflow-intel==2.11.0->tensorflow) (1.21.5)\n",
      "Requirement already satisfied: absl-py>=1.0.0 in c:\\users\\lenovo\\anaconda3\\lib\\site-packages (from tensorflow-intel==2.11.0->tensorflow) (1.3.0)\n",
      "Requirement already satisfied: opt-einsum>=2.3.2 in c:\\users\\lenovo\\anaconda3\\lib\\site-packages (from tensorflow-intel==2.11.0->tensorflow) (3.3.0)\n",
      "Requirement already satisfied: h5py>=2.9.0 in c:\\users\\lenovo\\anaconda3\\lib\\site-packages (from tensorflow-intel==2.11.0->tensorflow) (3.7.0)\n",
      "Requirement already satisfied: tensorboard<2.12,>=2.11 in c:\\users\\lenovo\\anaconda3\\lib\\site-packages (from tensorflow-intel==2.11.0->tensorflow) (2.11.0)\n",
      "Requirement already satisfied: setuptools in c:\\users\\lenovo\\anaconda3\\lib\\site-packages (from tensorflow-intel==2.11.0->tensorflow) (63.4.1)\n",
      "Requirement already satisfied: gast<=0.4.0,>=0.2.1 in c:\\users\\lenovo\\anaconda3\\lib\\site-packages (from tensorflow-intel==2.11.0->tensorflow) (0.4.0)\n",
      "Requirement already satisfied: wheel<1.0,>=0.23.0 in c:\\users\\lenovo\\anaconda3\\lib\\site-packages (from astunparse>=1.6.0->tensorflow-intel==2.11.0->tensorflow) (0.37.1)\n",
      "Requirement already satisfied: tensorboard-plugin-wit>=1.6.0 in c:\\users\\lenovo\\anaconda3\\lib\\site-packages (from tensorboard<2.12,>=2.11->tensorflow-intel==2.11.0->tensorflow) (1.8.1)\n",
      "Requirement already satisfied: werkzeug>=1.0.1 in c:\\users\\lenovo\\anaconda3\\lib\\site-packages (from tensorboard<2.12,>=2.11->tensorflow-intel==2.11.0->tensorflow) (2.0.3)\n",
      "Requirement already satisfied: markdown>=2.6.8 in c:\\users\\lenovo\\anaconda3\\lib\\site-packages (from tensorboard<2.12,>=2.11->tensorflow-intel==2.11.0->tensorflow) (3.3.4)\n",
      "Requirement already satisfied: requests<3,>=2.21.0 in c:\\users\\lenovo\\anaconda3\\lib\\site-packages (from tensorboard<2.12,>=2.11->tensorflow-intel==2.11.0->tensorflow) (2.28.1)\n",
      "Requirement already satisfied: google-auth-oauthlib<0.5,>=0.4.1 in c:\\users\\lenovo\\anaconda3\\lib\\site-packages (from tensorboard<2.12,>=2.11->tensorflow-intel==2.11.0->tensorflow) (0.4.6)\n",
      "Requirement already satisfied: tensorboard-data-server<0.7.0,>=0.6.0 in c:\\users\\lenovo\\anaconda3\\lib\\site-packages (from tensorboard<2.12,>=2.11->tensorflow-intel==2.11.0->tensorflow) (0.6.1)\n",
      "Requirement already satisfied: google-auth<3,>=1.6.3 in c:\\users\\lenovo\\anaconda3\\lib\\site-packages (from tensorboard<2.12,>=2.11->tensorflow-intel==2.11.0->tensorflow) (2.15.0)\n",
      "Requirement already satisfied: pyparsing!=3.0.5,>=2.0.2 in c:\\users\\lenovo\\anaconda3\\lib\\site-packages (from packaging->tensorflow-intel==2.11.0->tensorflow) (3.0.9)\n",
      "Requirement already satisfied: pyasn1-modules>=0.2.1 in c:\\users\\lenovo\\anaconda3\\lib\\site-packages (from google-auth<3,>=1.6.3->tensorboard<2.12,>=2.11->tensorflow-intel==2.11.0->tensorflow) (0.2.8)\n",
      "Requirement already satisfied: rsa<5,>=3.1.4 in c:\\users\\lenovo\\anaconda3\\lib\\site-packages (from google-auth<3,>=1.6.3->tensorboard<2.12,>=2.11->tensorflow-intel==2.11.0->tensorflow) (4.9)\n",
      "Requirement already satisfied: cachetools<6.0,>=2.0.0 in c:\\users\\lenovo\\anaconda3\\lib\\site-packages (from google-auth<3,>=1.6.3->tensorboard<2.12,>=2.11->tensorflow-intel==2.11.0->tensorflow) (5.2.0)\n",
      "Requirement already satisfied: requests-oauthlib>=0.7.0 in c:\\users\\lenovo\\anaconda3\\lib\\site-packages (from google-auth-oauthlib<0.5,>=0.4.1->tensorboard<2.12,>=2.11->tensorflow-intel==2.11.0->tensorflow) (1.3.1)\n",
      "Requirement already satisfied: charset-normalizer<3,>=2 in c:\\users\\lenovo\\anaconda3\\lib\\site-packages (from requests<3,>=2.21.0->tensorboard<2.12,>=2.11->tensorflow-intel==2.11.0->tensorflow) (2.0.4)\n",
      "Requirement already satisfied: urllib3<1.27,>=1.21.1 in c:\\users\\lenovo\\anaconda3\\lib\\site-packages (from requests<3,>=2.21.0->tensorboard<2.12,>=2.11->tensorflow-intel==2.11.0->tensorflow) (1.26.11)\n",
      "Requirement already satisfied: idna<4,>=2.5 in c:\\users\\lenovo\\anaconda3\\lib\\site-packages (from requests<3,>=2.21.0->tensorboard<2.12,>=2.11->tensorflow-intel==2.11.0->tensorflow) (3.3)\n",
      "Requirement already satisfied: certifi>=2017.4.17 in c:\\users\\lenovo\\anaconda3\\lib\\site-packages (from requests<3,>=2.21.0->tensorboard<2.12,>=2.11->tensorflow-intel==2.11.0->tensorflow) (2022.9.24)\n",
      "Requirement already satisfied: pyasn1<0.5.0,>=0.4.6 in c:\\users\\lenovo\\anaconda3\\lib\\site-packages (from pyasn1-modules>=0.2.1->google-auth<3,>=1.6.3->tensorboard<2.12,>=2.11->tensorflow-intel==2.11.0->tensorflow) (0.4.8)\n",
      "Requirement already satisfied: oauthlib>=3.0.0 in c:\\users\\lenovo\\anaconda3\\lib\\site-packages (from requests-oauthlib>=0.7.0->google-auth-oauthlib<0.5,>=0.4.1->tensorboard<2.12,>=2.11->tensorflow-intel==2.11.0->tensorflow) (3.2.2)\n"
     ]
    }
   ],
   "source": [
    "!pip install tensorflow"
   ]
  },
  {
   "cell_type": "markdown",
   "id": "dffcfcf1",
   "metadata": {},
   "source": [
    "#### Importing Necessary Libraries"
   ]
  },
  {
   "cell_type": "code",
   "execution_count": 2,
   "id": "dd7c0f5b",
   "metadata": {},
   "outputs": [],
   "source": [
    "import tensorflow as tf\n",
    "import pandas as pd"
   ]
  },
  {
   "cell_type": "markdown",
   "id": "5c25db9f",
   "metadata": {},
   "source": [
    "#### Checking the version of tensorflow"
   ]
  },
  {
   "cell_type": "code",
   "execution_count": 3,
   "id": "4760754d",
   "metadata": {},
   "outputs": [
    {
     "data": {
      "text/plain": [
       "'2.11.0'"
      ]
     },
     "execution_count": 3,
     "metadata": {},
     "output_type": "execute_result"
    }
   ],
   "source": [
    "tf.__version__"
   ]
  },
  {
   "cell_type": "markdown",
   "id": "e28742f4",
   "metadata": {},
   "source": [
    "#### Importing the dataset and viewing it"
   ]
  },
  {
   "cell_type": "code",
   "execution_count": 4,
   "id": "6aab7362",
   "metadata": {},
   "outputs": [
    {
     "data": {
      "text/html": [
       "<div>\n",
       "<style scoped>\n",
       "    .dataframe tbody tr th:only-of-type {\n",
       "        vertical-align: middle;\n",
       "    }\n",
       "\n",
       "    .dataframe tbody tr th {\n",
       "        vertical-align: top;\n",
       "    }\n",
       "\n",
       "    .dataframe thead th {\n",
       "        text-align: right;\n",
       "    }\n",
       "</style>\n",
       "<table border=\"1\" class=\"dataframe\">\n",
       "  <thead>\n",
       "    <tr style=\"text-align: right;\">\n",
       "      <th></th>\n",
       "      <th>SLNO</th>\n",
       "      <th>Candidate.Ref</th>\n",
       "      <th>DOJ.Extended</th>\n",
       "      <th>Duration.to.accept.offer</th>\n",
       "      <th>Notice.period</th>\n",
       "      <th>Offered.band</th>\n",
       "      <th>Pecent.hike.expected.in.CTC</th>\n",
       "      <th>Percent.hike.offered.in.CTC</th>\n",
       "      <th>Percent.difference.CTC</th>\n",
       "      <th>Joining.Bonus</th>\n",
       "      <th>Candidate.relocate.actual</th>\n",
       "      <th>Gender</th>\n",
       "      <th>Candidate.Source</th>\n",
       "      <th>Rex.in.Yrs</th>\n",
       "      <th>LOB</th>\n",
       "      <th>Location</th>\n",
       "      <th>Age</th>\n",
       "      <th>Status</th>\n",
       "    </tr>\n",
       "  </thead>\n",
       "  <tbody>\n",
       "    <tr>\n",
       "      <th>0</th>\n",
       "      <td>1</td>\n",
       "      <td>2110407</td>\n",
       "      <td>Yes</td>\n",
       "      <td>14</td>\n",
       "      <td>30</td>\n",
       "      <td>E2</td>\n",
       "      <td>-20.79</td>\n",
       "      <td>13.16</td>\n",
       "      <td>42.86</td>\n",
       "      <td>No</td>\n",
       "      <td>No</td>\n",
       "      <td>Female</td>\n",
       "      <td>Agency</td>\n",
       "      <td>7</td>\n",
       "      <td>ERS</td>\n",
       "      <td>Noida</td>\n",
       "      <td>34</td>\n",
       "      <td>1</td>\n",
       "    </tr>\n",
       "    <tr>\n",
       "      <th>1</th>\n",
       "      <td>2</td>\n",
       "      <td>2112635</td>\n",
       "      <td>No</td>\n",
       "      <td>18</td>\n",
       "      <td>30</td>\n",
       "      <td>E2</td>\n",
       "      <td>50.00</td>\n",
       "      <td>320.00</td>\n",
       "      <td>180.00</td>\n",
       "      <td>No</td>\n",
       "      <td>No</td>\n",
       "      <td>Male</td>\n",
       "      <td>Employee Referral</td>\n",
       "      <td>8</td>\n",
       "      <td>INFRA</td>\n",
       "      <td>Chennai</td>\n",
       "      <td>34</td>\n",
       "      <td>1</td>\n",
       "    </tr>\n",
       "    <tr>\n",
       "      <th>2</th>\n",
       "      <td>3</td>\n",
       "      <td>2112838</td>\n",
       "      <td>No</td>\n",
       "      <td>3</td>\n",
       "      <td>45</td>\n",
       "      <td>E2</td>\n",
       "      <td>42.84</td>\n",
       "      <td>42.84</td>\n",
       "      <td>0.00</td>\n",
       "      <td>No</td>\n",
       "      <td>No</td>\n",
       "      <td>Male</td>\n",
       "      <td>Agency</td>\n",
       "      <td>4</td>\n",
       "      <td>INFRA</td>\n",
       "      <td>Noida</td>\n",
       "      <td>27</td>\n",
       "      <td>1</td>\n",
       "    </tr>\n",
       "    <tr>\n",
       "      <th>3</th>\n",
       "      <td>4</td>\n",
       "      <td>2115021</td>\n",
       "      <td>No</td>\n",
       "      <td>26</td>\n",
       "      <td>30</td>\n",
       "      <td>E2</td>\n",
       "      <td>42.84</td>\n",
       "      <td>42.84</td>\n",
       "      <td>0.00</td>\n",
       "      <td>No</td>\n",
       "      <td>No</td>\n",
       "      <td>Male</td>\n",
       "      <td>Employee Referral</td>\n",
       "      <td>4</td>\n",
       "      <td>INFRA</td>\n",
       "      <td>Noida</td>\n",
       "      <td>34</td>\n",
       "      <td>1</td>\n",
       "    </tr>\n",
       "    <tr>\n",
       "      <th>4</th>\n",
       "      <td>5</td>\n",
       "      <td>2115125</td>\n",
       "      <td>Yes</td>\n",
       "      <td>1</td>\n",
       "      <td>120</td>\n",
       "      <td>E2</td>\n",
       "      <td>42.59</td>\n",
       "      <td>42.59</td>\n",
       "      <td>0.00</td>\n",
       "      <td>No</td>\n",
       "      <td>Yes</td>\n",
       "      <td>Male</td>\n",
       "      <td>Employee Referral</td>\n",
       "      <td>6</td>\n",
       "      <td>INFRA</td>\n",
       "      <td>Noida</td>\n",
       "      <td>34</td>\n",
       "      <td>1</td>\n",
       "    </tr>\n",
       "  </tbody>\n",
       "</table>\n",
       "</div>"
      ],
      "text/plain": [
       "   SLNO  Candidate.Ref DOJ.Extended  Duration.to.accept.offer  Notice.period  \\\n",
       "0     1        2110407          Yes                        14             30   \n",
       "1     2        2112635           No                        18             30   \n",
       "2     3        2112838           No                         3             45   \n",
       "3     4        2115021           No                        26             30   \n",
       "4     5        2115125          Yes                         1            120   \n",
       "\n",
       "  Offered.band  Pecent.hike.expected.in.CTC  Percent.hike.offered.in.CTC  \\\n",
       "0           E2                       -20.79                        13.16   \n",
       "1           E2                        50.00                       320.00   \n",
       "2           E2                        42.84                        42.84   \n",
       "3           E2                        42.84                        42.84   \n",
       "4           E2                        42.59                        42.59   \n",
       "\n",
       "   Percent.difference.CTC Joining.Bonus Candidate.relocate.actual  Gender  \\\n",
       "0                   42.86            No                        No  Female   \n",
       "1                  180.00            No                        No    Male   \n",
       "2                    0.00            No                        No    Male   \n",
       "3                    0.00            No                        No    Male   \n",
       "4                    0.00            No                       Yes    Male   \n",
       "\n",
       "    Candidate.Source  Rex.in.Yrs    LOB Location  Age  Status  \n",
       "0             Agency           7    ERS    Noida   34       1  \n",
       "1  Employee Referral           8  INFRA  Chennai   34       1  \n",
       "2             Agency           4  INFRA    Noida   27       1  \n",
       "3  Employee Referral           4  INFRA    Noida   34       1  \n",
       "4  Employee Referral           6  INFRA    Noida   34       1  "
      ]
     },
     "execution_count": 4,
     "metadata": {},
     "output_type": "execute_result"
    }
   ],
   "source": [
    "hr_interview = pd.read_csv(r\"C:\\Users\\lenovo\\Desktop\\Data Set\\HR Interview Analytics.csv\")\n",
    "hr_interview.head()"
   ]
  },
  {
   "cell_type": "markdown",
   "id": "b2fd8ea8",
   "metadata": {},
   "source": [
    "#### Checking for null values in dataset"
   ]
  },
  {
   "cell_type": "code",
   "execution_count": 5,
   "id": "e6689af0",
   "metadata": {},
   "outputs": [
    {
     "data": {
      "text/plain": [
       "SLNO                           0\n",
       "Candidate.Ref                  0\n",
       "DOJ.Extended                   0\n",
       "Duration.to.accept.offer       0\n",
       "Notice.period                  0\n",
       "Offered.band                   0\n",
       "Pecent.hike.expected.in.CTC    0\n",
       "Percent.hike.offered.in.CTC    0\n",
       "Percent.difference.CTC         0\n",
       "Joining.Bonus                  0\n",
       "Candidate.relocate.actual      0\n",
       "Gender                         0\n",
       "Candidate.Source               0\n",
       "Rex.in.Yrs                     0\n",
       "LOB                            0\n",
       "Location                       0\n",
       "Age                            0\n",
       "Status                         0\n",
       "dtype: int64"
      ]
     },
     "execution_count": 5,
     "metadata": {},
     "output_type": "execute_result"
    }
   ],
   "source": [
    "hr_interview.isnull().sum()"
   ]
  },
  {
   "cell_type": "markdown",
   "id": "4b84ff5a",
   "metadata": {},
   "source": [
    "#### Collecting the information of dataset"
   ]
  },
  {
   "cell_type": "code",
   "execution_count": 6,
   "id": "6f269c05",
   "metadata": {},
   "outputs": [
    {
     "name": "stdout",
     "output_type": "stream",
     "text": [
      "<class 'pandas.core.frame.DataFrame'>\n",
      "RangeIndex: 9011 entries, 0 to 9010\n",
      "Data columns (total 18 columns):\n",
      " #   Column                       Non-Null Count  Dtype  \n",
      "---  ------                       --------------  -----  \n",
      " 0   SLNO                         9011 non-null   int64  \n",
      " 1   Candidate.Ref                9011 non-null   int64  \n",
      " 2   DOJ.Extended                 9011 non-null   object \n",
      " 3   Duration.to.accept.offer     9011 non-null   int64  \n",
      " 4   Notice.period                9011 non-null   int64  \n",
      " 5   Offered.band                 9011 non-null   object \n",
      " 6   Pecent.hike.expected.in.CTC  9011 non-null   float64\n",
      " 7   Percent.hike.offered.in.CTC  9011 non-null   float64\n",
      " 8   Percent.difference.CTC       9011 non-null   float64\n",
      " 9   Joining.Bonus                9011 non-null   object \n",
      " 10  Candidate.relocate.actual    9011 non-null   object \n",
      " 11  Gender                       9011 non-null   object \n",
      " 12  Candidate.Source             9011 non-null   object \n",
      " 13  Rex.in.Yrs                   9011 non-null   int64  \n",
      " 14  LOB                          9011 non-null   object \n",
      " 15  Location                     9011 non-null   object \n",
      " 16  Age                          9011 non-null   int64  \n",
      " 17  Status                       9011 non-null   int64  \n",
      "dtypes: float64(3), int64(7), object(8)\n",
      "memory usage: 1.2+ MB\n"
     ]
    }
   ],
   "source": [
    "hr_interview.info()"
   ]
  },
  {
   "cell_type": "markdown",
   "id": "a14f8973",
   "metadata": {},
   "source": [
    "#### Creating dummy variables for all catagorical columns"
   ]
  },
  {
   "cell_type": "code",
   "execution_count": 7,
   "id": "c72629ab",
   "metadata": {},
   "outputs": [
    {
     "data": {
      "text/html": [
       "<div>\n",
       "<style scoped>\n",
       "    .dataframe tbody tr th:only-of-type {\n",
       "        vertical-align: middle;\n",
       "    }\n",
       "\n",
       "    .dataframe tbody tr th {\n",
       "        vertical-align: top;\n",
       "    }\n",
       "\n",
       "    .dataframe thead th {\n",
       "        text-align: right;\n",
       "    }\n",
       "</style>\n",
       "<table border=\"1\" class=\"dataframe\">\n",
       "  <thead>\n",
       "    <tr style=\"text-align: right;\">\n",
       "      <th></th>\n",
       "      <th>SLNO</th>\n",
       "      <th>Candidate.Ref</th>\n",
       "      <th>Duration.to.accept.offer</th>\n",
       "      <th>Notice.period</th>\n",
       "      <th>Pecent.hike.expected.in.CTC</th>\n",
       "      <th>Percent.hike.offered.in.CTC</th>\n",
       "      <th>Percent.difference.CTC</th>\n",
       "      <th>Rex.in.Yrs</th>\n",
       "      <th>Age</th>\n",
       "      <th>Status</th>\n",
       "      <th>...</th>\n",
       "      <th>Location_Bangalore</th>\n",
       "      <th>Location_Chennai</th>\n",
       "      <th>Location_Cochin</th>\n",
       "      <th>Location_Gurgaon</th>\n",
       "      <th>Location_Hyderabad</th>\n",
       "      <th>Location_Kolkata</th>\n",
       "      <th>Location_Mumbai</th>\n",
       "      <th>Location_Noida</th>\n",
       "      <th>Location_Others</th>\n",
       "      <th>Location_Pune</th>\n",
       "    </tr>\n",
       "  </thead>\n",
       "  <tbody>\n",
       "    <tr>\n",
       "      <th>0</th>\n",
       "      <td>1</td>\n",
       "      <td>2110407</td>\n",
       "      <td>14</td>\n",
       "      <td>30</td>\n",
       "      <td>-20.79</td>\n",
       "      <td>13.16</td>\n",
       "      <td>42.86</td>\n",
       "      <td>7</td>\n",
       "      <td>34</td>\n",
       "      <td>1</td>\n",
       "      <td>...</td>\n",
       "      <td>0</td>\n",
       "      <td>0</td>\n",
       "      <td>0</td>\n",
       "      <td>0</td>\n",
       "      <td>0</td>\n",
       "      <td>0</td>\n",
       "      <td>0</td>\n",
       "      <td>1</td>\n",
       "      <td>0</td>\n",
       "      <td>0</td>\n",
       "    </tr>\n",
       "    <tr>\n",
       "      <th>1</th>\n",
       "      <td>2</td>\n",
       "      <td>2112635</td>\n",
       "      <td>18</td>\n",
       "      <td>30</td>\n",
       "      <td>50.00</td>\n",
       "      <td>320.00</td>\n",
       "      <td>180.00</td>\n",
       "      <td>8</td>\n",
       "      <td>34</td>\n",
       "      <td>1</td>\n",
       "      <td>...</td>\n",
       "      <td>0</td>\n",
       "      <td>1</td>\n",
       "      <td>0</td>\n",
       "      <td>0</td>\n",
       "      <td>0</td>\n",
       "      <td>0</td>\n",
       "      <td>0</td>\n",
       "      <td>0</td>\n",
       "      <td>0</td>\n",
       "      <td>0</td>\n",
       "    </tr>\n",
       "    <tr>\n",
       "      <th>2</th>\n",
       "      <td>3</td>\n",
       "      <td>2112838</td>\n",
       "      <td>3</td>\n",
       "      <td>45</td>\n",
       "      <td>42.84</td>\n",
       "      <td>42.84</td>\n",
       "      <td>0.00</td>\n",
       "      <td>4</td>\n",
       "      <td>27</td>\n",
       "      <td>1</td>\n",
       "      <td>...</td>\n",
       "      <td>0</td>\n",
       "      <td>0</td>\n",
       "      <td>0</td>\n",
       "      <td>0</td>\n",
       "      <td>0</td>\n",
       "      <td>0</td>\n",
       "      <td>0</td>\n",
       "      <td>1</td>\n",
       "      <td>0</td>\n",
       "      <td>0</td>\n",
       "    </tr>\n",
       "    <tr>\n",
       "      <th>3</th>\n",
       "      <td>4</td>\n",
       "      <td>2115021</td>\n",
       "      <td>26</td>\n",
       "      <td>30</td>\n",
       "      <td>42.84</td>\n",
       "      <td>42.84</td>\n",
       "      <td>0.00</td>\n",
       "      <td>4</td>\n",
       "      <td>34</td>\n",
       "      <td>1</td>\n",
       "      <td>...</td>\n",
       "      <td>0</td>\n",
       "      <td>0</td>\n",
       "      <td>0</td>\n",
       "      <td>0</td>\n",
       "      <td>0</td>\n",
       "      <td>0</td>\n",
       "      <td>0</td>\n",
       "      <td>1</td>\n",
       "      <td>0</td>\n",
       "      <td>0</td>\n",
       "    </tr>\n",
       "    <tr>\n",
       "      <th>4</th>\n",
       "      <td>5</td>\n",
       "      <td>2115125</td>\n",
       "      <td>1</td>\n",
       "      <td>120</td>\n",
       "      <td>42.59</td>\n",
       "      <td>42.59</td>\n",
       "      <td>0.00</td>\n",
       "      <td>6</td>\n",
       "      <td>34</td>\n",
       "      <td>1</td>\n",
       "      <td>...</td>\n",
       "      <td>0</td>\n",
       "      <td>0</td>\n",
       "      <td>0</td>\n",
       "      <td>0</td>\n",
       "      <td>0</td>\n",
       "      <td>0</td>\n",
       "      <td>0</td>\n",
       "      <td>1</td>\n",
       "      <td>0</td>\n",
       "      <td>0</td>\n",
       "    </tr>\n",
       "  </tbody>\n",
       "</table>\n",
       "<p>5 rows × 37 columns</p>\n",
       "</div>"
      ],
      "text/plain": [
       "   SLNO  Candidate.Ref  Duration.to.accept.offer  Notice.period  \\\n",
       "0     1        2110407                        14             30   \n",
       "1     2        2112635                        18             30   \n",
       "2     3        2112838                         3             45   \n",
       "3     4        2115021                        26             30   \n",
       "4     5        2115125                         1            120   \n",
       "\n",
       "   Pecent.hike.expected.in.CTC  Percent.hike.offered.in.CTC  \\\n",
       "0                       -20.79                        13.16   \n",
       "1                        50.00                       320.00   \n",
       "2                        42.84                        42.84   \n",
       "3                        42.84                        42.84   \n",
       "4                        42.59                        42.59   \n",
       "\n",
       "   Percent.difference.CTC  Rex.in.Yrs  Age  Status  ...  Location_Bangalore  \\\n",
       "0                   42.86           7   34       1  ...                   0   \n",
       "1                  180.00           8   34       1  ...                   0   \n",
       "2                    0.00           4   27       1  ...                   0   \n",
       "3                    0.00           4   34       1  ...                   0   \n",
       "4                    0.00           6   34       1  ...                   0   \n",
       "\n",
       "   Location_Chennai  Location_Cochin  Location_Gurgaon  Location_Hyderabad  \\\n",
       "0                 0                0                 0                   0   \n",
       "1                 1                0                 0                   0   \n",
       "2                 0                0                 0                   0   \n",
       "3                 0                0                 0                   0   \n",
       "4                 0                0                 0                   0   \n",
       "\n",
       "   Location_Kolkata  Location_Mumbai  Location_Noida  Location_Others  \\\n",
       "0                 0                0               1                0   \n",
       "1                 0                0               0                0   \n",
       "2                 0                0               1                0   \n",
       "3                 0                0               1                0   \n",
       "4                 0                0               1                0   \n",
       "\n",
       "   Location_Pune  \n",
       "0              0  \n",
       "1              0  \n",
       "2              0  \n",
       "3              0  \n",
       "4              0  \n",
       "\n",
       "[5 rows x 37 columns]"
      ]
     },
     "execution_count": 7,
     "metadata": {},
     "output_type": "execute_result"
    }
   ],
   "source": [
    "## Lets create the dummy variables for all the categorical columns\n",
    "cat_col = ['DOJ.Extended','Offered.band','Joining.Bonus','Candidate.relocate.actual','Gender','Candidate.Source','LOB','Location']\n",
    "hr_interview_final = pd.get_dummies(hr_interview,columns=cat_col,drop_first=True)\n",
    "hr_interview_final.head()"
   ]
  },
  {
   "cell_type": "markdown",
   "id": "d5644ed2",
   "metadata": {},
   "source": [
    "#### Checking for unique values in target column"
   ]
  },
  {
   "cell_type": "code",
   "execution_count": 8,
   "id": "ab274e41",
   "metadata": {},
   "outputs": [
    {
     "data": {
      "text/plain": [
       "2"
      ]
     },
     "execution_count": 8,
     "metadata": {},
     "output_type": "execute_result"
    }
   ],
   "source": [
    "hr_interview_final['Status'].nunique()"
   ]
  },
  {
   "cell_type": "markdown",
   "id": "92b97055",
   "metadata": {},
   "source": [
    "#### Removing Unwanted Columns"
   ]
  },
  {
   "cell_type": "code",
   "execution_count": 9,
   "id": "6d86c98a",
   "metadata": {},
   "outputs": [],
   "source": [
    "# We will remove SLNO and Candidate.Ref for the model building step. As it will be unique for every Candidate\n",
    "hr_interview_final1 = hr_interview_final.drop(columns=['SLNO','Candidate.Ref'])"
   ]
  },
  {
   "cell_type": "markdown",
   "id": "f77ad02c",
   "metadata": {},
   "source": [
    "#### Checking the shape of Dataset"
   ]
  },
  {
   "cell_type": "code",
   "execution_count": 10,
   "id": "dc0b0cf8",
   "metadata": {},
   "outputs": [
    {
     "data": {
      "text/plain": [
       "(9011, 37)"
      ]
     },
     "execution_count": 10,
     "metadata": {},
     "output_type": "execute_result"
    }
   ],
   "source": [
    "hr_interview_final.shape"
   ]
  },
  {
   "cell_type": "code",
   "execution_count": 11,
   "id": "2b531874",
   "metadata": {},
   "outputs": [
    {
     "data": {
      "text/plain": [
       "(9011, 35)"
      ]
     },
     "execution_count": 11,
     "metadata": {},
     "output_type": "execute_result"
    }
   ],
   "source": [
    "hr_interview_final1.shape"
   ]
  },
  {
   "cell_type": "code",
   "execution_count": 12,
   "id": "a1d53ac0",
   "metadata": {},
   "outputs": [],
   "source": [
    "# Identifying target variable and inputs\n",
    "y = hr_interview_final1[['Status']]\n",
    "x = hr_interview_final1.drop(columns=['Status'])"
   ]
  },
  {
   "cell_type": "markdown",
   "id": "b9a986fc",
   "metadata": {},
   "source": [
    "#### Splitting the dataset and Importing library"
   ]
  },
  {
   "cell_type": "code",
   "execution_count": 13,
   "id": "b259ff80",
   "metadata": {},
   "outputs": [],
   "source": [
    "## Importing the library\n",
    "from sklearn.model_selection import train_test_split"
   ]
  },
  {
   "cell_type": "code",
   "execution_count": 14,
   "id": "5913012c",
   "metadata": {},
   "outputs": [],
   "source": [
    "## Splitting the data into Train and Test\n",
    "x_train,x_test,y_train,y_test = train_test_split(x,y,test_size=0.2,random_state=42)"
   ]
  },
  {
   "cell_type": "code",
   "execution_count": 15,
   "id": "21314c47",
   "metadata": {},
   "outputs": [
    {
     "data": {
      "text/plain": [
       "(7208, 1803, 7208, 1803)"
      ]
     },
     "execution_count": 15,
     "metadata": {},
     "output_type": "execute_result"
    }
   ],
   "source": [
    "## Checking the length of the X and Y train\n",
    "len(x_train),len(x_test),len(y_train),len(y_test)"
   ]
  },
  {
   "cell_type": "markdown",
   "id": "b4bd9e91",
   "metadata": {},
   "source": [
    "### Building the Model\n",
    "### Step 1: Initialising the model and creating the input layer"
   ]
  },
  {
   "cell_type": "code",
   "execution_count": 16,
   "id": "12491da5",
   "metadata": {},
   "outputs": [],
   "source": [
    "ann = tf.keras.models.Sequential()"
   ]
  },
  {
   "cell_type": "markdown",
   "id": "79a06311",
   "metadata": {},
   "source": [
    "### Step 2: Creating the first hidden layer"
   ]
  },
  {
   "cell_type": "code",
   "execution_count": 17,
   "id": "5de5c7d9",
   "metadata": {},
   "outputs": [],
   "source": [
    "## Considering hidden unit layers as 6\n",
    "ann.add(tf.keras.layers.Dense(units=6,activation='relu'))"
   ]
  },
  {
   "cell_type": "markdown",
   "id": "c7a64294",
   "metadata": {},
   "source": [
    "### Step 3: Creating the second hidden layer"
   ]
  },
  {
   "cell_type": "code",
   "execution_count": 18,
   "id": "0132dcbc",
   "metadata": {},
   "outputs": [],
   "source": [
    "## Considering hidden unit layers as 6\n",
    "ann.add(tf.keras.layers.Dense(units=6,activation='relu'))"
   ]
  },
  {
   "cell_type": "markdown",
   "id": "05295ebb",
   "metadata": {},
   "source": [
    "### Step 4: Creating the output layer"
   ]
  },
  {
   "cell_type": "code",
   "execution_count": 19,
   "id": "af26d76e",
   "metadata": {},
   "outputs": [],
   "source": [
    "#The number of units in output column should be n-1, where n is the number of categories in output column\n",
    "ann.add(tf.keras.layers.Dense(units=1,activation='sigmoid'))"
   ]
  },
  {
   "cell_type": "markdown",
   "id": "67de487b",
   "metadata": {},
   "source": [
    "### Step 5: Compiling the model"
   ]
  },
  {
   "cell_type": "code",
   "execution_count": 20,
   "id": "0df63616",
   "metadata": {},
   "outputs": [],
   "source": [
    "ann.compile(optimizer='adam',loss='binary_crossentropy',metrics='accuracy')"
   ]
  },
  {
   "cell_type": "markdown",
   "id": "b056e6c2",
   "metadata": {},
   "source": [
    "### Step 6: Fitting the data"
   ]
  },
  {
   "cell_type": "code",
   "execution_count": 21,
   "id": "5110bd25",
   "metadata": {},
   "outputs": [
    {
     "name": "stdout",
     "output_type": "stream",
     "text": [
      "Epoch 1/100\n",
      "181/181 [==============================] - 3s 6ms/step - loss: 0.7515 - accuracy: 0.7175 - val_loss: 0.5308 - val_accuracy: 0.8003\n",
      "Epoch 2/100\n",
      "181/181 [==============================] - 1s 3ms/step - loss: 0.5049 - accuracy: 0.8141 - val_loss: 0.5102 - val_accuracy: 0.7968\n",
      "Epoch 3/100\n",
      "181/181 [==============================] - 1s 3ms/step - loss: 0.4873 - accuracy: 0.8141 - val_loss: 0.4976 - val_accuracy: 0.8024\n",
      "Epoch 4/100\n",
      "181/181 [==============================] - 1s 4ms/step - loss: 0.4786 - accuracy: 0.8158 - val_loss: 0.4906 - val_accuracy: 0.8037\n",
      "Epoch 5/100\n",
      "181/181 [==============================] - 1s 4ms/step - loss: 0.4734 - accuracy: 0.8158 - val_loss: 0.4911 - val_accuracy: 0.8037\n",
      "Epoch 6/100\n",
      "181/181 [==============================] - 1s 4ms/step - loss: 0.4687 - accuracy: 0.8146 - val_loss: 0.4825 - val_accuracy: 0.8072\n",
      "Epoch 7/100\n",
      "181/181 [==============================] - 1s 3ms/step - loss: 0.4645 - accuracy: 0.8156 - val_loss: 0.4807 - val_accuracy: 0.8051\n",
      "Epoch 8/100\n",
      "181/181 [==============================] - 1s 4ms/step - loss: 0.4619 - accuracy: 0.8163 - val_loss: 0.4828 - val_accuracy: 0.8044\n",
      "Epoch 9/100\n",
      "181/181 [==============================] - 1s 4ms/step - loss: 0.4597 - accuracy: 0.8160 - val_loss: 0.4764 - val_accuracy: 0.8086\n",
      "Epoch 10/100\n",
      "181/181 [==============================] - 1s 3ms/step - loss: 0.4547 - accuracy: 0.8169 - val_loss: 0.4731 - val_accuracy: 0.8051\n",
      "Epoch 11/100\n",
      "181/181 [==============================] - 1s 3ms/step - loss: 0.4531 - accuracy: 0.8174 - val_loss: 0.4707 - val_accuracy: 0.8079\n",
      "Epoch 12/100\n",
      "181/181 [==============================] - 1s 3ms/step - loss: 0.4503 - accuracy: 0.8189 - val_loss: 0.4713 - val_accuracy: 0.8044\n",
      "Epoch 13/100\n",
      "181/181 [==============================] - 1s 3ms/step - loss: 0.4470 - accuracy: 0.8172 - val_loss: 0.4684 - val_accuracy: 0.8031\n",
      "Epoch 14/100\n",
      "181/181 [==============================] - 1s 3ms/step - loss: 0.4440 - accuracy: 0.8195 - val_loss: 0.4667 - val_accuracy: 0.8044\n",
      "Epoch 15/100\n",
      "181/181 [==============================] - 1s 3ms/step - loss: 0.4432 - accuracy: 0.8177 - val_loss: 0.4605 - val_accuracy: 0.8100\n",
      "Epoch 16/100\n",
      "181/181 [==============================] - 1s 3ms/step - loss: 0.4403 - accuracy: 0.8191 - val_loss: 0.4636 - val_accuracy: 0.8044\n",
      "Epoch 17/100\n",
      "181/181 [==============================] - 1s 3ms/step - loss: 0.4352 - accuracy: 0.8188 - val_loss: 0.4589 - val_accuracy: 0.8072\n",
      "Epoch 18/100\n",
      "181/181 [==============================] - 1s 3ms/step - loss: 0.4314 - accuracy: 0.8174 - val_loss: 0.4595 - val_accuracy: 0.8065\n",
      "Epoch 19/100\n",
      "181/181 [==============================] - 1s 3ms/step - loss: 0.4298 - accuracy: 0.8202 - val_loss: 0.4597 - val_accuracy: 0.8044\n",
      "Epoch 20/100\n",
      "181/181 [==============================] - 1s 3ms/step - loss: 0.4274 - accuracy: 0.8202 - val_loss: 0.4557 - val_accuracy: 0.8031\n",
      "Epoch 21/100\n",
      "181/181 [==============================] - 1s 3ms/step - loss: 0.4248 - accuracy: 0.8217 - val_loss: 0.4523 - val_accuracy: 0.8037\n",
      "Epoch 22/100\n",
      "181/181 [==============================] - 1s 3ms/step - loss: 0.4230 - accuracy: 0.8202 - val_loss: 0.4544 - val_accuracy: 0.8065\n",
      "Epoch 23/100\n",
      "181/181 [==============================] - 1s 3ms/step - loss: 0.4204 - accuracy: 0.8247 - val_loss: 0.4502 - val_accuracy: 0.8107\n",
      "Epoch 24/100\n",
      "181/181 [==============================] - 1s 3ms/step - loss: 0.4185 - accuracy: 0.8228 - val_loss: 0.4517 - val_accuracy: 0.8044\n",
      "Epoch 25/100\n",
      "181/181 [==============================] - 1s 3ms/step - loss: 0.4193 - accuracy: 0.8191 - val_loss: 0.4493 - val_accuracy: 0.8093\n",
      "Epoch 26/100\n",
      "181/181 [==============================] - 1s 3ms/step - loss: 0.4160 - accuracy: 0.8226 - val_loss: 0.4471 - val_accuracy: 0.8058\n",
      "Epoch 27/100\n",
      "181/181 [==============================] - 1s 4ms/step - loss: 0.4168 - accuracy: 0.8231 - val_loss: 0.4464 - val_accuracy: 0.8086\n",
      "Epoch 28/100\n",
      "181/181 [==============================] - 1s 3ms/step - loss: 0.4144 - accuracy: 0.8228 - val_loss: 0.4455 - val_accuracy: 0.8086\n",
      "Epoch 29/100\n",
      "181/181 [==============================] - 1s 3ms/step - loss: 0.4140 - accuracy: 0.8203 - val_loss: 0.4442 - val_accuracy: 0.8107\n",
      "Epoch 30/100\n",
      "181/181 [==============================] - 1s 3ms/step - loss: 0.4150 - accuracy: 0.8221 - val_loss: 0.4450 - val_accuracy: 0.8065\n",
      "Epoch 31/100\n",
      "181/181 [==============================] - 0s 3ms/step - loss: 0.4126 - accuracy: 0.8203 - val_loss: 0.4419 - val_accuracy: 0.8072\n",
      "Epoch 32/100\n",
      "181/181 [==============================] - 1s 4ms/step - loss: 0.4115 - accuracy: 0.8219 - val_loss: 0.4431 - val_accuracy: 0.8114\n",
      "Epoch 33/100\n",
      "181/181 [==============================] - 1s 4ms/step - loss: 0.4112 - accuracy: 0.8191 - val_loss: 0.4460 - val_accuracy: 0.8100\n",
      "Epoch 34/100\n",
      "181/181 [==============================] - 1s 3ms/step - loss: 0.4104 - accuracy: 0.8238 - val_loss: 0.4444 - val_accuracy: 0.8086\n",
      "Epoch 35/100\n",
      "181/181 [==============================] - 1s 3ms/step - loss: 0.4103 - accuracy: 0.8207 - val_loss: 0.4388 - val_accuracy: 0.8086\n",
      "Epoch 36/100\n",
      "181/181 [==============================] - 1s 3ms/step - loss: 0.4114 - accuracy: 0.8217 - val_loss: 0.4537 - val_accuracy: 0.8044\n",
      "Epoch 37/100\n",
      "181/181 [==============================] - 1s 3ms/step - loss: 0.4104 - accuracy: 0.8217 - val_loss: 0.4442 - val_accuracy: 0.8079\n",
      "Epoch 38/100\n",
      "181/181 [==============================] - 1s 3ms/step - loss: 0.4125 - accuracy: 0.8195 - val_loss: 0.4476 - val_accuracy: 0.8051\n",
      "Epoch 39/100\n",
      "181/181 [==============================] - 1s 3ms/step - loss: 0.4100 - accuracy: 0.8188 - val_loss: 0.4415 - val_accuracy: 0.8107\n",
      "Epoch 40/100\n",
      "181/181 [==============================] - 1s 3ms/step - loss: 0.4085 - accuracy: 0.8231 - val_loss: 0.4403 - val_accuracy: 0.8107\n",
      "Epoch 41/100\n",
      "181/181 [==============================] - 1s 3ms/step - loss: 0.4097 - accuracy: 0.8215 - val_loss: 0.4371 - val_accuracy: 0.8093\n",
      "Epoch 42/100\n",
      "181/181 [==============================] - 1s 3ms/step - loss: 0.4087 - accuracy: 0.8208 - val_loss: 0.4426 - val_accuracy: 0.8072\n",
      "Epoch 43/100\n",
      "181/181 [==============================] - 1s 3ms/step - loss: 0.4076 - accuracy: 0.8215 - val_loss: 0.4412 - val_accuracy: 0.8107\n",
      "Epoch 44/100\n",
      "181/181 [==============================] - 1s 3ms/step - loss: 0.4076 - accuracy: 0.8207 - val_loss: 0.4377 - val_accuracy: 0.8100\n",
      "Epoch 45/100\n",
      "181/181 [==============================] - 1s 3ms/step - loss: 0.4075 - accuracy: 0.8215 - val_loss: 0.4383 - val_accuracy: 0.8121\n",
      "Epoch 46/100\n",
      "181/181 [==============================] - 1s 3ms/step - loss: 0.4071 - accuracy: 0.8224 - val_loss: 0.4358 - val_accuracy: 0.8107\n",
      "Epoch 47/100\n",
      "181/181 [==============================] - 1s 3ms/step - loss: 0.4058 - accuracy: 0.8214 - val_loss: 0.4485 - val_accuracy: 0.8017\n",
      "Epoch 48/100\n",
      "181/181 [==============================] - 1s 3ms/step - loss: 0.4085 - accuracy: 0.8212 - val_loss: 0.4440 - val_accuracy: 0.8031\n",
      "Epoch 49/100\n",
      "181/181 [==============================] - 1s 3ms/step - loss: 0.4078 - accuracy: 0.8208 - val_loss: 0.4359 - val_accuracy: 0.8100\n",
      "Epoch 50/100\n",
      "181/181 [==============================] - 1s 3ms/step - loss: 0.4059 - accuracy: 0.8222 - val_loss: 0.4417 - val_accuracy: 0.8086\n",
      "Epoch 51/100\n",
      "181/181 [==============================] - 1s 3ms/step - loss: 0.4064 - accuracy: 0.8207 - val_loss: 0.4394 - val_accuracy: 0.8128\n",
      "Epoch 52/100\n",
      "181/181 [==============================] - 1s 3ms/step - loss: 0.4055 - accuracy: 0.8205 - val_loss: 0.4427 - val_accuracy: 0.8093\n",
      "Epoch 53/100\n",
      "181/181 [==============================] - 1s 3ms/step - loss: 0.4068 - accuracy: 0.8222 - val_loss: 0.4336 - val_accuracy: 0.8114\n",
      "Epoch 54/100\n",
      "181/181 [==============================] - 1s 3ms/step - loss: 0.4051 - accuracy: 0.8236 - val_loss: 0.4342 - val_accuracy: 0.8107\n",
      "Epoch 55/100\n",
      "181/181 [==============================] - 1s 3ms/step - loss: 0.4053 - accuracy: 0.8214 - val_loss: 0.4386 - val_accuracy: 0.8079\n",
      "Epoch 56/100\n",
      "181/181 [==============================] - 1s 3ms/step - loss: 0.4056 - accuracy: 0.8207 - val_loss: 0.4425 - val_accuracy: 0.8107\n",
      "Epoch 57/100\n",
      "181/181 [==============================] - 1s 3ms/step - loss: 0.4061 - accuracy: 0.8210 - val_loss: 0.4356 - val_accuracy: 0.8086\n"
     ]
    },
    {
     "name": "stdout",
     "output_type": "stream",
     "text": [
      "Epoch 58/100\n",
      "181/181 [==============================] - 1s 3ms/step - loss: 0.4045 - accuracy: 0.8207 - val_loss: 0.4345 - val_accuracy: 0.8107\n",
      "Epoch 59/100\n",
      "181/181 [==============================] - 1s 3ms/step - loss: 0.4038 - accuracy: 0.8212 - val_loss: 0.4390 - val_accuracy: 0.8093\n",
      "Epoch 60/100\n",
      "181/181 [==============================] - 1s 3ms/step - loss: 0.4042 - accuracy: 0.8229 - val_loss: 0.4370 - val_accuracy: 0.8128\n",
      "Epoch 61/100\n",
      "181/181 [==============================] - 1s 3ms/step - loss: 0.4064 - accuracy: 0.8215 - val_loss: 0.4341 - val_accuracy: 0.8128\n",
      "Epoch 62/100\n",
      "181/181 [==============================] - 1s 3ms/step - loss: 0.4062 - accuracy: 0.8202 - val_loss: 0.4336 - val_accuracy: 0.8086\n",
      "Epoch 63/100\n",
      "181/181 [==============================] - 1s 3ms/step - loss: 0.4040 - accuracy: 0.8231 - val_loss: 0.4332 - val_accuracy: 0.8114\n",
      "Epoch 64/100\n",
      "181/181 [==============================] - 1s 3ms/step - loss: 0.4034 - accuracy: 0.8236 - val_loss: 0.4358 - val_accuracy: 0.8100\n",
      "Epoch 65/100\n",
      "181/181 [==============================] - 1s 3ms/step - loss: 0.4035 - accuracy: 0.8224 - val_loss: 0.4390 - val_accuracy: 0.8128\n",
      "Epoch 66/100\n",
      "181/181 [==============================] - 1s 3ms/step - loss: 0.4059 - accuracy: 0.8219 - val_loss: 0.4336 - val_accuracy: 0.8135\n",
      "Epoch 67/100\n",
      "181/181 [==============================] - 1s 3ms/step - loss: 0.4036 - accuracy: 0.8215 - val_loss: 0.4347 - val_accuracy: 0.8114\n",
      "Epoch 68/100\n",
      "181/181 [==============================] - 1s 3ms/step - loss: 0.4035 - accuracy: 0.8229 - val_loss: 0.4337 - val_accuracy: 0.8128\n",
      "Epoch 69/100\n",
      "181/181 [==============================] - 1s 3ms/step - loss: 0.4024 - accuracy: 0.8238 - val_loss: 0.4352 - val_accuracy: 0.8093\n",
      "Epoch 70/100\n",
      "181/181 [==============================] - 1s 3ms/step - loss: 0.4044 - accuracy: 0.8219 - val_loss: 0.4360 - val_accuracy: 0.8100\n",
      "Epoch 71/100\n",
      "181/181 [==============================] - 1s 3ms/step - loss: 0.4047 - accuracy: 0.8215 - val_loss: 0.4327 - val_accuracy: 0.8141\n",
      "Epoch 72/100\n",
      "181/181 [==============================] - 1s 3ms/step - loss: 0.4035 - accuracy: 0.8219 - val_loss: 0.4358 - val_accuracy: 0.8114\n",
      "Epoch 73/100\n",
      "181/181 [==============================] - 1s 3ms/step - loss: 0.4025 - accuracy: 0.8224 - val_loss: 0.4400 - val_accuracy: 0.8051\n",
      "Epoch 74/100\n",
      "181/181 [==============================] - 1s 3ms/step - loss: 0.4031 - accuracy: 0.8200 - val_loss: 0.4345 - val_accuracy: 0.8121\n",
      "Epoch 75/100\n",
      "181/181 [==============================] - 1s 3ms/step - loss: 0.4023 - accuracy: 0.8219 - val_loss: 0.4396 - val_accuracy: 0.8114\n",
      "Epoch 76/100\n",
      "181/181 [==============================] - 1s 3ms/step - loss: 0.4039 - accuracy: 0.8240 - val_loss: 0.4406 - val_accuracy: 0.8079\n",
      "Epoch 77/100\n",
      "181/181 [==============================] - 1s 3ms/step - loss: 0.4020 - accuracy: 0.8250 - val_loss: 0.4383 - val_accuracy: 0.8107\n",
      "Epoch 78/100\n",
      "181/181 [==============================] - 1s 3ms/step - loss: 0.4019 - accuracy: 0.8212 - val_loss: 0.4348 - val_accuracy: 0.8107\n",
      "Epoch 79/100\n",
      "181/181 [==============================] - 1s 3ms/step - loss: 0.4018 - accuracy: 0.8212 - val_loss: 0.4362 - val_accuracy: 0.8058\n",
      "Epoch 80/100\n",
      "181/181 [==============================] - 1s 4ms/step - loss: 0.4042 - accuracy: 0.8214 - val_loss: 0.4400 - val_accuracy: 0.8086\n",
      "Epoch 81/100\n",
      "181/181 [==============================] - 1s 3ms/step - loss: 0.4028 - accuracy: 0.8203 - val_loss: 0.4376 - val_accuracy: 0.8072\n",
      "Epoch 82/100\n",
      "181/181 [==============================] - 1s 3ms/step - loss: 0.4021 - accuracy: 0.8217 - val_loss: 0.4334 - val_accuracy: 0.8135\n",
      "Epoch 83/100\n",
      "181/181 [==============================] - 1s 3ms/step - loss: 0.4019 - accuracy: 0.8231 - val_loss: 0.4323 - val_accuracy: 0.8093\n",
      "Epoch 84/100\n",
      "181/181 [==============================] - 1s 3ms/step - loss: 0.4027 - accuracy: 0.8233 - val_loss: 0.4356 - val_accuracy: 0.8100\n",
      "Epoch 85/100\n",
      "181/181 [==============================] - 1s 3ms/step - loss: 0.4020 - accuracy: 0.8236 - val_loss: 0.4351 - val_accuracy: 0.8114\n",
      "Epoch 86/100\n",
      "181/181 [==============================] - 1s 4ms/step - loss: 0.4022 - accuracy: 0.8215 - val_loss: 0.4344 - val_accuracy: 0.8058\n",
      "Epoch 87/100\n",
      "181/181 [==============================] - 1s 4ms/step - loss: 0.4014 - accuracy: 0.8208 - val_loss: 0.4342 - val_accuracy: 0.8100\n",
      "Epoch 88/100\n",
      "181/181 [==============================] - 1s 3ms/step - loss: 0.4020 - accuracy: 0.8219 - val_loss: 0.4312 - val_accuracy: 0.8093\n",
      "Epoch 89/100\n",
      "181/181 [==============================] - 1s 4ms/step - loss: 0.4034 - accuracy: 0.8212 - val_loss: 0.4328 - val_accuracy: 0.8107\n",
      "Epoch 90/100\n",
      "181/181 [==============================] - 1s 3ms/step - loss: 0.4031 - accuracy: 0.8233 - val_loss: 0.4345 - val_accuracy: 0.8121\n",
      "Epoch 91/100\n",
      "181/181 [==============================] - 1s 3ms/step - loss: 0.4027 - accuracy: 0.8236 - val_loss: 0.4326 - val_accuracy: 0.8100\n",
      "Epoch 92/100\n",
      "181/181 [==============================] - 1s 4ms/step - loss: 0.4006 - accuracy: 0.8231 - val_loss: 0.4369 - val_accuracy: 0.8114\n",
      "Epoch 93/100\n",
      "181/181 [==============================] - 1s 4ms/step - loss: 0.4011 - accuracy: 0.8215 - val_loss: 0.4338 - val_accuracy: 0.8114\n",
      "Epoch 94/100\n",
      "181/181 [==============================] - 1s 3ms/step - loss: 0.4013 - accuracy: 0.8215 - val_loss: 0.4288 - val_accuracy: 0.8086\n",
      "Epoch 95/100\n",
      "181/181 [==============================] - 1s 4ms/step - loss: 0.4026 - accuracy: 0.8233 - val_loss: 0.4368 - val_accuracy: 0.8114\n",
      "Epoch 96/100\n",
      "181/181 [==============================] - 1s 3ms/step - loss: 0.4010 - accuracy: 0.8202 - val_loss: 0.4302 - val_accuracy: 0.8100\n",
      "Epoch 97/100\n",
      "181/181 [==============================] - 1s 3ms/step - loss: 0.4015 - accuracy: 0.8229 - val_loss: 0.4311 - val_accuracy: 0.8155\n",
      "Epoch 98/100\n",
      "181/181 [==============================] - 1s 3ms/step - loss: 0.4005 - accuracy: 0.8217 - val_loss: 0.4374 - val_accuracy: 0.8058\n",
      "Epoch 99/100\n",
      "181/181 [==============================] - 1s 3ms/step - loss: 0.4015 - accuracy: 0.8221 - val_loss: 0.4306 - val_accuracy: 0.8141\n",
      "Epoch 100/100\n",
      "181/181 [==============================] - 1s 3ms/step - loss: 0.4001 - accuracy: 0.8219 - val_loss: 0.4338 - val_accuracy: 0.8128\n"
     ]
    }
   ],
   "source": [
    "model = ann.fit(x_train,y_train,validation_split=0.2,batch_size=32,epochs=100)"
   ]
  },
  {
   "cell_type": "markdown",
   "id": "dfcc4db5",
   "metadata": {},
   "source": [
    "### As their is no much difference inTraining Accuracy & Validation Accuracy it can be said that their is no overfitting condition in data\n",
    "### Prediction on test data"
   ]
  },
  {
   "cell_type": "code",
   "execution_count": 22,
   "id": "80c17d4a",
   "metadata": {},
   "outputs": [
    {
     "name": "stdout",
     "output_type": "stream",
     "text": [
      "57/57 [==============================] - 0s 2ms/step\n"
     ]
    }
   ],
   "source": [
    "y_test['Prediction'] = ann.predict(x_test)"
   ]
  },
  {
   "cell_type": "code",
   "execution_count": 23,
   "id": "6f8bad77",
   "metadata": {},
   "outputs": [
    {
     "data": {
      "text/html": [
       "<div>\n",
       "<style scoped>\n",
       "    .dataframe tbody tr th:only-of-type {\n",
       "        vertical-align: middle;\n",
       "    }\n",
       "\n",
       "    .dataframe tbody tr th {\n",
       "        vertical-align: top;\n",
       "    }\n",
       "\n",
       "    .dataframe thead th {\n",
       "        text-align: right;\n",
       "    }\n",
       "</style>\n",
       "<table border=\"1\" class=\"dataframe\">\n",
       "  <thead>\n",
       "    <tr style=\"text-align: right;\">\n",
       "      <th></th>\n",
       "      <th>Status</th>\n",
       "      <th>Prediction</th>\n",
       "    </tr>\n",
       "  </thead>\n",
       "  <tbody>\n",
       "    <tr>\n",
       "      <th>93</th>\n",
       "      <td>0</td>\n",
       "      <td>0.962819</td>\n",
       "    </tr>\n",
       "    <tr>\n",
       "      <th>7272</th>\n",
       "      <td>1</td>\n",
       "      <td>0.938603</td>\n",
       "    </tr>\n",
       "    <tr>\n",
       "      <th>447</th>\n",
       "      <td>1</td>\n",
       "      <td>0.898908</td>\n",
       "    </tr>\n",
       "    <tr>\n",
       "      <th>6519</th>\n",
       "      <td>0</td>\n",
       "      <td>0.649237</td>\n",
       "    </tr>\n",
       "    <tr>\n",
       "      <th>3898</th>\n",
       "      <td>0</td>\n",
       "      <td>0.496188</td>\n",
       "    </tr>\n",
       "    <tr>\n",
       "      <th>...</th>\n",
       "      <td>...</td>\n",
       "      <td>...</td>\n",
       "    </tr>\n",
       "    <tr>\n",
       "      <th>8671</th>\n",
       "      <td>1</td>\n",
       "      <td>0.768776</td>\n",
       "    </tr>\n",
       "    <tr>\n",
       "      <th>111</th>\n",
       "      <td>1</td>\n",
       "      <td>0.659915</td>\n",
       "    </tr>\n",
       "    <tr>\n",
       "      <th>8742</th>\n",
       "      <td>1</td>\n",
       "      <td>0.999466</td>\n",
       "    </tr>\n",
       "    <tr>\n",
       "      <th>7596</th>\n",
       "      <td>1</td>\n",
       "      <td>0.907553</td>\n",
       "    </tr>\n",
       "    <tr>\n",
       "      <th>2215</th>\n",
       "      <td>0</td>\n",
       "      <td>0.873531</td>\n",
       "    </tr>\n",
       "  </tbody>\n",
       "</table>\n",
       "<p>1803 rows × 2 columns</p>\n",
       "</div>"
      ],
      "text/plain": [
       "      Status  Prediction\n",
       "93         0    0.962819\n",
       "7272       1    0.938603\n",
       "447        1    0.898908\n",
       "6519       0    0.649237\n",
       "3898       0    0.496188\n",
       "...      ...         ...\n",
       "8671       1    0.768776\n",
       "111        1    0.659915\n",
       "8742       1    0.999466\n",
       "7596       1    0.907553\n",
       "2215       0    0.873531\n",
       "\n",
       "[1803 rows x 2 columns]"
      ]
     },
     "execution_count": 23,
     "metadata": {},
     "output_type": "execute_result"
    }
   ],
   "source": [
    "y_test"
   ]
  },
  {
   "cell_type": "code",
   "execution_count": 24,
   "id": "5ebe42a3",
   "metadata": {},
   "outputs": [
    {
     "data": {
      "text/html": [
       "<div>\n",
       "<style scoped>\n",
       "    .dataframe tbody tr th:only-of-type {\n",
       "        vertical-align: middle;\n",
       "    }\n",
       "\n",
       "    .dataframe tbody tr th {\n",
       "        vertical-align: top;\n",
       "    }\n",
       "\n",
       "    .dataframe thead th {\n",
       "        text-align: right;\n",
       "    }\n",
       "</style>\n",
       "<table border=\"1\" class=\"dataframe\">\n",
       "  <thead>\n",
       "    <tr style=\"text-align: right;\">\n",
       "      <th></th>\n",
       "      <th>Status</th>\n",
       "      <th>Prediction</th>\n",
       "    </tr>\n",
       "  </thead>\n",
       "  <tbody>\n",
       "    <tr>\n",
       "      <th>93</th>\n",
       "      <td>0</td>\n",
       "      <td>True</td>\n",
       "    </tr>\n",
       "    <tr>\n",
       "      <th>7272</th>\n",
       "      <td>1</td>\n",
       "      <td>True</td>\n",
       "    </tr>\n",
       "    <tr>\n",
       "      <th>447</th>\n",
       "      <td>1</td>\n",
       "      <td>True</td>\n",
       "    </tr>\n",
       "    <tr>\n",
       "      <th>6519</th>\n",
       "      <td>0</td>\n",
       "      <td>True</td>\n",
       "    </tr>\n",
       "    <tr>\n",
       "      <th>3898</th>\n",
       "      <td>0</td>\n",
       "      <td>False</td>\n",
       "    </tr>\n",
       "  </tbody>\n",
       "</table>\n",
       "</div>"
      ],
      "text/plain": [
       "      Status  Prediction\n",
       "93         0        True\n",
       "7272       1        True\n",
       "447        1        True\n",
       "6519       0        True\n",
       "3898       0       False"
      ]
     },
     "execution_count": 24,
     "metadata": {},
     "output_type": "execute_result"
    }
   ],
   "source": [
    "y_test['Prediction'] = y_test[\"Prediction\"]>0.5\n",
    "y_test.head()"
   ]
  },
  {
   "cell_type": "code",
   "execution_count": 25,
   "id": "2766f5bd",
   "metadata": {},
   "outputs": [
    {
     "data": {
      "text/html": [
       "<div>\n",
       "<style scoped>\n",
       "    .dataframe tbody tr th:only-of-type {\n",
       "        vertical-align: middle;\n",
       "    }\n",
       "\n",
       "    .dataframe tbody tr th {\n",
       "        vertical-align: top;\n",
       "    }\n",
       "\n",
       "    .dataframe thead th {\n",
       "        text-align: right;\n",
       "    }\n",
       "</style>\n",
       "<table border=\"1\" class=\"dataframe\">\n",
       "  <thead>\n",
       "    <tr style=\"text-align: right;\">\n",
       "      <th></th>\n",
       "      <th>Status</th>\n",
       "      <th>Prediction</th>\n",
       "    </tr>\n",
       "  </thead>\n",
       "  <tbody>\n",
       "    <tr>\n",
       "      <th>93</th>\n",
       "      <td>0</td>\n",
       "      <td>1</td>\n",
       "    </tr>\n",
       "    <tr>\n",
       "      <th>7272</th>\n",
       "      <td>1</td>\n",
       "      <td>1</td>\n",
       "    </tr>\n",
       "    <tr>\n",
       "      <th>447</th>\n",
       "      <td>1</td>\n",
       "      <td>1</td>\n",
       "    </tr>\n",
       "    <tr>\n",
       "      <th>6519</th>\n",
       "      <td>0</td>\n",
       "      <td>1</td>\n",
       "    </tr>\n",
       "    <tr>\n",
       "      <th>3898</th>\n",
       "      <td>0</td>\n",
       "      <td>0</td>\n",
       "    </tr>\n",
       "  </tbody>\n",
       "</table>\n",
       "</div>"
      ],
      "text/plain": [
       "      Status  Prediction\n",
       "93         0           1\n",
       "7272       1           1\n",
       "447        1           1\n",
       "6519       0           1\n",
       "3898       0           0"
      ]
     },
     "execution_count": 25,
     "metadata": {},
     "output_type": "execute_result"
    }
   ],
   "source": [
    "y_test['Prediction'] = y_test['Prediction'].astype('int')\n",
    "y_test.head()"
   ]
  },
  {
   "cell_type": "markdown",
   "id": "fd0c68ad",
   "metadata": {},
   "source": [
    "#### Importing the library"
   ]
  },
  {
   "cell_type": "code",
   "execution_count": 26,
   "id": "20625e16",
   "metadata": {},
   "outputs": [],
   "source": [
    "from sklearn.metrics import accuracy_score,confusion_matrix"
   ]
  },
  {
   "cell_type": "markdown",
   "id": "f111f0e5",
   "metadata": {},
   "source": [
    "#### Printing the Accuracy Score"
   ]
  },
  {
   "cell_type": "code",
   "execution_count": 27,
   "id": "df6ee2ba",
   "metadata": {},
   "outputs": [
    {
     "name": "stdout",
     "output_type": "stream",
     "text": [
      "0.8236272878535774\n"
     ]
    }
   ],
   "source": [
    "print(accuracy_score(y_test['Status'],y_test['Prediction']))"
   ]
  },
  {
   "cell_type": "markdown",
   "id": "19174e4e",
   "metadata": {},
   "source": [
    "#### Printing the Confusion Matrix"
   ]
  },
  {
   "cell_type": "code",
   "execution_count": 28,
   "id": "c0d66a9c",
   "metadata": {},
   "outputs": [
    {
     "name": "stdout",
     "output_type": "stream",
     "text": [
      "[[  50  287]\n",
      " [  31 1435]]\n"
     ]
    }
   ],
   "source": [
    "print(confusion_matrix(y_test['Status'],y_test['Prediction']))"
   ]
  },
  {
   "cell_type": "markdown",
   "id": "6d811cf9",
   "metadata": {},
   "source": [
    "                          - - - - - - - - X X X X X X X X - - - - - - - -"
   ]
  },
  {
   "cell_type": "markdown",
   "id": "14905006",
   "metadata": {},
   "source": [
    "### Q. 2) Use the below given url to build a CNN model to predict whether the given image is dog or cat. You can use Kaggle notebooks to build the model. Once the model is build, take a random image of a cat or dog from the test data and predict it using the model.\n",
    "( https://www.kaggle.com/tongpython/cat-and-dog )"
   ]
  },
  {
   "cell_type": "markdown",
   "id": "4299a7c2",
   "metadata": {},
   "source": [
    "#### Importing the necessary libraries"
   ]
  },
  {
   "cell_type": "code",
   "execution_count": 30,
   "id": "70146854",
   "metadata": {},
   "outputs": [],
   "source": [
    "import tensorflow as tf\n",
    "from keras.preprocessing.image import ImageDataGenerator"
   ]
  },
  {
   "cell_type": "code",
   "execution_count": 31,
   "id": "929fc1ed",
   "metadata": {},
   "outputs": [
    {
     "name": "stdout",
     "output_type": "stream",
     "text": [
      "Found 8005 images belonging to 2 classes.\n"
     ]
    }
   ],
   "source": [
    "train_data_gen = ImageDataGenerator(rescale=1/255)\n",
    "training_data = train_data_gen.flow_from_directory(r\"C:\\Users\\lenovo\\Desktop\\training_set\\training_set\",\n",
    "                                                   target_size=(64,64),batch_size=32,class_mode='binary')"
   ]
  },
  {
   "cell_type": "code",
   "execution_count": 32,
   "id": "c105f045",
   "metadata": {},
   "outputs": [
    {
     "name": "stdout",
     "output_type": "stream",
     "text": [
      "Found 2023 images belonging to 2 classes.\n"
     ]
    }
   ],
   "source": [
    "test_data_gen = ImageDataGenerator(rescale=1/255)\n",
    "test_data = test_data_gen.flow_from_directory(r\"C:\\Users\\lenovo\\Desktop\\test_set\\test_set\",\n",
    "                                                   target_size=(64,64),batch_size=32,class_mode='binary')"
   ]
  },
  {
   "cell_type": "markdown",
   "id": "c2d8efd1",
   "metadata": {},
   "source": [
    "### Convolutional Neural Network ( CNN )"
   ]
  },
  {
   "cell_type": "markdown",
   "id": "b366757d",
   "metadata": {},
   "source": [
    "### Step 1: Initialising the model and creating the input layer"
   ]
  },
  {
   "cell_type": "code",
   "execution_count": 33,
   "id": "26e8333a",
   "metadata": {},
   "outputs": [],
   "source": [
    "cnn = tf.keras.models.Sequential()"
   ]
  },
  {
   "cell_type": "markdown",
   "id": "6f5d361d",
   "metadata": {},
   "source": [
    "### Step 2: Creating the first hidden layer"
   ]
  },
  {
   "cell_type": "code",
   "execution_count": 34,
   "id": "67dc1726",
   "metadata": {},
   "outputs": [],
   "source": [
    "## Convolution\n",
    "cnn.add(tf.keras.layers.Conv2D(filters=32,kernel_size=3,activation='relu'))"
   ]
  },
  {
   "cell_type": "code",
   "execution_count": 35,
   "id": "3f9bda4e",
   "metadata": {},
   "outputs": [],
   "source": [
    "## Pooling\n",
    "cnn.add(tf.keras.layers.MaxPool2D(pool_size=2,strides=2))"
   ]
  },
  {
   "cell_type": "markdown",
   "id": "11e2377b",
   "metadata": {},
   "source": [
    "### Step 3: Creating the second hidden layer"
   ]
  },
  {
   "cell_type": "code",
   "execution_count": 36,
   "id": "92b27dc3",
   "metadata": {},
   "outputs": [],
   "source": [
    "## Convolution\n",
    "cnn.add(tf.keras.layers.Conv2D(filters=32,kernel_size=3,activation='relu'))\n",
    "\n",
    "## Pooling\n",
    "cnn.add(tf.keras.layers.MaxPool2D(pool_size=2,strides=2))"
   ]
  },
  {
   "cell_type": "code",
   "execution_count": 37,
   "id": "d68ad700",
   "metadata": {},
   "outputs": [],
   "source": [
    "## Flattening\n",
    "cnn.add(tf.keras.layers.Flatten())"
   ]
  },
  {
   "cell_type": "code",
   "execution_count": 38,
   "id": "49dfb48f",
   "metadata": {},
   "outputs": [],
   "source": [
    "## Full connection\n",
    "cnn.add(tf.keras.layers.Dense(units=128,activation='relu'))"
   ]
  },
  {
   "cell_type": "markdown",
   "id": "867d3779",
   "metadata": {},
   "source": [
    "### Step 4: Creating the output layer"
   ]
  },
  {
   "cell_type": "code",
   "execution_count": 39,
   "id": "11f55700",
   "metadata": {},
   "outputs": [],
   "source": [
    "## The number of units in output column should be n-1, where n is the number of categories in output column\n",
    "cnn.add(tf.keras.layers.Dense(units=1,activation='sigmoid'))"
   ]
  },
  {
   "cell_type": "markdown",
   "id": "4fc78036",
   "metadata": {},
   "source": [
    "### Step 5: Compiling the model"
   ]
  },
  {
   "cell_type": "code",
   "execution_count": 40,
   "id": "99ba137f",
   "metadata": {},
   "outputs": [],
   "source": [
    "cnn.compile(optimizer='adam',loss='binary_crossentropy',metrics='accuracy')"
   ]
  },
  {
   "cell_type": "markdown",
   "id": "b9b3a965",
   "metadata": {},
   "source": [
    "### Step 6: Fitting the data"
   ]
  },
  {
   "cell_type": "code",
   "execution_count": 41,
   "id": "cf5834b4",
   "metadata": {},
   "outputs": [
    {
     "name": "stdout",
     "output_type": "stream",
     "text": [
      "Epoch 1/5\n",
      "251/251 [==============================] - 233s 923ms/step - loss: 0.6758 - accuracy: 0.5693 - val_loss: 0.6087 - val_accuracy: 0.6836\n",
      "Epoch 2/5\n",
      "251/251 [==============================] - 61s 242ms/step - loss: 0.5701 - accuracy: 0.7044 - val_loss: 0.5433 - val_accuracy: 0.7207\n",
      "Epoch 3/5\n",
      "251/251 [==============================] - 61s 243ms/step - loss: 0.4948 - accuracy: 0.7658 - val_loss: 0.5478 - val_accuracy: 0.7257\n",
      "Epoch 4/5\n",
      "251/251 [==============================] - 61s 243ms/step - loss: 0.4461 - accuracy: 0.7883 - val_loss: 0.5087 - val_accuracy: 0.7514\n",
      "Epoch 5/5\n",
      "251/251 [==============================] - 60s 241ms/step - loss: 0.3993 - accuracy: 0.8167 - val_loss: 0.5112 - val_accuracy: 0.7543\n"
     ]
    },
    {
     "data": {
      "text/plain": [
       "<keras.callbacks.History at 0x1cfb164cb80>"
      ]
     },
     "execution_count": 41,
     "metadata": {},
     "output_type": "execute_result"
    }
   ],
   "source": [
    "cnn.fit(x=training_data,validation_data=test_data,epochs=5)"
   ]
  },
  {
   "cell_type": "markdown",
   "id": "8e81a017",
   "metadata": {},
   "source": [
    "### Checking for proper output, loading image ( random ), Converting image to array & Expanding the image"
   ]
  },
  {
   "cell_type": "markdown",
   "id": "26f3c866",
   "metadata": {},
   "source": [
    "#### Importing the libraries and validating image"
   ]
  },
  {
   "cell_type": "code",
   "execution_count": 42,
   "id": "04538969",
   "metadata": {},
   "outputs": [],
   "source": [
    "## You can use or give path of any image from test dataset to classify weather it may be of cat or dog\n",
    "import numpy as np\n",
    "from keras.preprocessing import image\n",
    "val_image = tf.keras.utils.load_img(r\"C:\\Users\\lenovo\\Desktop\\test_set\\test_set\\cats\\cat.4041.jpg\",target_size=(64,64))\n",
    "val_image = tf.keras.utils.img_to_array(val_image)\n",
    "val_image = np.expand_dims(val_image,axis=0)"
   ]
  },
  {
   "cell_type": "markdown",
   "id": "855a69e5",
   "metadata": {},
   "source": [
    "#### Checking for result"
   ]
  },
  {
   "cell_type": "code",
   "execution_count": 43,
   "id": "43fb9880",
   "metadata": {},
   "outputs": [
    {
     "name": "stdout",
     "output_type": "stream",
     "text": [
      "1/1 [==============================] - 0s 137ms/step\n"
     ]
    },
    {
     "data": {
      "text/plain": [
       "array([[0.]], dtype=float32)"
      ]
     },
     "execution_count": 43,
     "metadata": {},
     "output_type": "execute_result"
    }
   ],
   "source": [
    "result = cnn.predict(val_image)\n",
    "result"
   ]
  },
  {
   "cell_type": "markdown",
   "id": "847d8c49",
   "metadata": {},
   "source": [
    "#### Checking for no. 1 in array stands for"
   ]
  },
  {
   "cell_type": "code",
   "execution_count": 44,
   "id": "c4e5cd43",
   "metadata": {},
   "outputs": [
    {
     "data": {
      "text/plain": [
       "{'cats': 0, 'dogs': 1}"
      ]
     },
     "execution_count": 44,
     "metadata": {},
     "output_type": "execute_result"
    }
   ],
   "source": [
    "training_data.class_indices"
   ]
  },
  {
   "cell_type": "markdown",
   "id": "cf6f205a",
   "metadata": {},
   "source": [
    "                      - - - - - - - - X X X X X X X X - - - - - - - -"
   ]
  },
  {
   "cell_type": "markdown",
   "id": "e013f9e1",
   "metadata": {},
   "source": [
    "### Q. 3) Use the dataset named video_game_sales to predict the global sales, using artificial neural network. Use appropriate data preprocessing techniques to clean the data."
   ]
  },
  {
   "cell_type": "markdown",
   "id": "be8f559b",
   "metadata": {},
   "source": [
    "#### Importing necessary libraries"
   ]
  },
  {
   "cell_type": "code",
   "execution_count": 45,
   "id": "ba5f50de",
   "metadata": {},
   "outputs": [],
   "source": [
    "import tensorflow as tf\n",
    "import pandas as pd"
   ]
  },
  {
   "cell_type": "markdown",
   "id": "2f03eaab",
   "metadata": {},
   "source": [
    "#### Importing the dataset & checking it"
   ]
  },
  {
   "cell_type": "code",
   "execution_count": 46,
   "id": "e4f8cdb8",
   "metadata": {},
   "outputs": [
    {
     "data": {
      "text/html": [
       "<div>\n",
       "<style scoped>\n",
       "    .dataframe tbody tr th:only-of-type {\n",
       "        vertical-align: middle;\n",
       "    }\n",
       "\n",
       "    .dataframe tbody tr th {\n",
       "        vertical-align: top;\n",
       "    }\n",
       "\n",
       "    .dataframe thead th {\n",
       "        text-align: right;\n",
       "    }\n",
       "</style>\n",
       "<table border=\"1\" class=\"dataframe\">\n",
       "  <thead>\n",
       "    <tr style=\"text-align: right;\">\n",
       "      <th></th>\n",
       "      <th>Name</th>\n",
       "      <th>Platform</th>\n",
       "      <th>Year_of_Release</th>\n",
       "      <th>Genre</th>\n",
       "      <th>Publisher</th>\n",
       "      <th>NA_Sales</th>\n",
       "      <th>EU_Sales</th>\n",
       "      <th>JP_Sales</th>\n",
       "      <th>Other_Sales</th>\n",
       "      <th>Global_Sales</th>\n",
       "      <th>Critic_Score</th>\n",
       "      <th>Critic_Count</th>\n",
       "      <th>User_Score</th>\n",
       "      <th>User_Count</th>\n",
       "      <th>Developer</th>\n",
       "      <th>Rating</th>\n",
       "    </tr>\n",
       "  </thead>\n",
       "  <tbody>\n",
       "    <tr>\n",
       "      <th>0</th>\n",
       "      <td>Wii Sports</td>\n",
       "      <td>Wii</td>\n",
       "      <td>2006.0</td>\n",
       "      <td>Sports</td>\n",
       "      <td>Nintendo</td>\n",
       "      <td>41.36</td>\n",
       "      <td>28.96</td>\n",
       "      <td>3.77</td>\n",
       "      <td>8.45</td>\n",
       "      <td>82.53</td>\n",
       "      <td>76.0</td>\n",
       "      <td>51.0</td>\n",
       "      <td>8</td>\n",
       "      <td>322.0</td>\n",
       "      <td>Nintendo</td>\n",
       "      <td>E</td>\n",
       "    </tr>\n",
       "    <tr>\n",
       "      <th>1</th>\n",
       "      <td>Super Mario Bros.</td>\n",
       "      <td>NES</td>\n",
       "      <td>1985.0</td>\n",
       "      <td>Platform</td>\n",
       "      <td>Nintendo</td>\n",
       "      <td>29.08</td>\n",
       "      <td>3.58</td>\n",
       "      <td>6.81</td>\n",
       "      <td>0.77</td>\n",
       "      <td>40.24</td>\n",
       "      <td>NaN</td>\n",
       "      <td>NaN</td>\n",
       "      <td>NaN</td>\n",
       "      <td>NaN</td>\n",
       "      <td>NaN</td>\n",
       "      <td>NaN</td>\n",
       "    </tr>\n",
       "    <tr>\n",
       "      <th>2</th>\n",
       "      <td>Mario Kart Wii</td>\n",
       "      <td>Wii</td>\n",
       "      <td>2008.0</td>\n",
       "      <td>Racing</td>\n",
       "      <td>Nintendo</td>\n",
       "      <td>15.68</td>\n",
       "      <td>12.76</td>\n",
       "      <td>3.79</td>\n",
       "      <td>3.29</td>\n",
       "      <td>35.52</td>\n",
       "      <td>82.0</td>\n",
       "      <td>73.0</td>\n",
       "      <td>8.3</td>\n",
       "      <td>709.0</td>\n",
       "      <td>Nintendo</td>\n",
       "      <td>E</td>\n",
       "    </tr>\n",
       "    <tr>\n",
       "      <th>3</th>\n",
       "      <td>Wii Sports Resort</td>\n",
       "      <td>Wii</td>\n",
       "      <td>2009.0</td>\n",
       "      <td>Sports</td>\n",
       "      <td>Nintendo</td>\n",
       "      <td>15.61</td>\n",
       "      <td>10.93</td>\n",
       "      <td>3.28</td>\n",
       "      <td>2.95</td>\n",
       "      <td>32.77</td>\n",
       "      <td>80.0</td>\n",
       "      <td>73.0</td>\n",
       "      <td>8</td>\n",
       "      <td>192.0</td>\n",
       "      <td>Nintendo</td>\n",
       "      <td>E</td>\n",
       "    </tr>\n",
       "    <tr>\n",
       "      <th>4</th>\n",
       "      <td>Pokemon Red/Pokemon Blue</td>\n",
       "      <td>GB</td>\n",
       "      <td>1996.0</td>\n",
       "      <td>Role-Playing</td>\n",
       "      <td>Nintendo</td>\n",
       "      <td>11.27</td>\n",
       "      <td>8.89</td>\n",
       "      <td>10.22</td>\n",
       "      <td>1.00</td>\n",
       "      <td>31.37</td>\n",
       "      <td>NaN</td>\n",
       "      <td>NaN</td>\n",
       "      <td>NaN</td>\n",
       "      <td>NaN</td>\n",
       "      <td>NaN</td>\n",
       "      <td>NaN</td>\n",
       "    </tr>\n",
       "  </tbody>\n",
       "</table>\n",
       "</div>"
      ],
      "text/plain": [
       "                       Name Platform  Year_of_Release         Genre Publisher  \\\n",
       "0                Wii Sports      Wii           2006.0        Sports  Nintendo   \n",
       "1         Super Mario Bros.      NES           1985.0      Platform  Nintendo   \n",
       "2            Mario Kart Wii      Wii           2008.0        Racing  Nintendo   \n",
       "3         Wii Sports Resort      Wii           2009.0        Sports  Nintendo   \n",
       "4  Pokemon Red/Pokemon Blue       GB           1996.0  Role-Playing  Nintendo   \n",
       "\n",
       "   NA_Sales  EU_Sales  JP_Sales  Other_Sales  Global_Sales  Critic_Score  \\\n",
       "0     41.36     28.96      3.77         8.45         82.53          76.0   \n",
       "1     29.08      3.58      6.81         0.77         40.24           NaN   \n",
       "2     15.68     12.76      3.79         3.29         35.52          82.0   \n",
       "3     15.61     10.93      3.28         2.95         32.77          80.0   \n",
       "4     11.27      8.89     10.22         1.00         31.37           NaN   \n",
       "\n",
       "   Critic_Count User_Score  User_Count Developer Rating  \n",
       "0          51.0          8       322.0  Nintendo      E  \n",
       "1           NaN        NaN         NaN       NaN    NaN  \n",
       "2          73.0        8.3       709.0  Nintendo      E  \n",
       "3          73.0          8       192.0  Nintendo      E  \n",
       "4           NaN        NaN         NaN       NaN    NaN  "
      ]
     },
     "execution_count": 46,
     "metadata": {},
     "output_type": "execute_result"
    }
   ],
   "source": [
    "video_games_sales = pd.read_csv(r\"C:\\Users\\lenovo\\Desktop\\Data Set\\video_games_sales.csv\")\n",
    "video_games_sales.head()"
   ]
  },
  {
   "cell_type": "markdown",
   "id": "9f3f02a1",
   "metadata": {},
   "source": [
    "#### Checking the shape and Null values in dataset"
   ]
  },
  {
   "cell_type": "code",
   "execution_count": 47,
   "id": "4158f558",
   "metadata": {},
   "outputs": [
    {
     "data": {
      "text/plain": [
       "(16719, 16)"
      ]
     },
     "execution_count": 47,
     "metadata": {},
     "output_type": "execute_result"
    }
   ],
   "source": [
    "## Checking Shape\n",
    "video_games_sales.shape"
   ]
  },
  {
   "cell_type": "code",
   "execution_count": 48,
   "id": "b3ef290e",
   "metadata": {},
   "outputs": [
    {
     "data": {
      "text/plain": [
       "Name                  2\n",
       "Platform              0\n",
       "Year_of_Release     269\n",
       "Genre                 2\n",
       "Publisher            54\n",
       "NA_Sales              0\n",
       "EU_Sales              0\n",
       "JP_Sales              0\n",
       "Other_Sales           0\n",
       "Global_Sales          0\n",
       "Critic_Score       8582\n",
       "Critic_Count       8582\n",
       "User_Score         6704\n",
       "User_Count         9129\n",
       "Developer          6623\n",
       "Rating             6769\n",
       "dtype: int64"
      ]
     },
     "execution_count": 48,
     "metadata": {},
     "output_type": "execute_result"
    }
   ],
   "source": [
    "## Checking Null Values\n",
    "video_games_sales.isnull().sum()"
   ]
  },
  {
   "cell_type": "markdown",
   "id": "ad35293a",
   "metadata": {},
   "source": [
    "#### Note :- Here we are using the LableEncoder as a data cleaning or PreProcessing Technique as the Columns ( Critic_Score, Critic_Count, User_Score, User_Count, Developer, Rating ) have more than 30% of missing values so we are gonna drop those columns and will use lableEncoder for other columns containing the missing values"
   ]
  },
  {
   "cell_type": "markdown",
   "id": "edcf1962",
   "metadata": {},
   "source": [
    "#### Importing LableEncoder and Calling it"
   ]
  },
  {
   "cell_type": "code",
   "execution_count": 49,
   "id": "e339f610",
   "metadata": {},
   "outputs": [],
   "source": [
    "from sklearn.preprocessing import LabelEncoder"
   ]
  },
  {
   "cell_type": "code",
   "execution_count": 50,
   "id": "c16b5c67",
   "metadata": {},
   "outputs": [],
   "source": [
    "le = LabelEncoder()"
   ]
  },
  {
   "cell_type": "markdown",
   "id": "661dc5a3",
   "metadata": {},
   "source": [
    "#### Filling the missing values in dataset using LableEncoder"
   ]
  },
  {
   "cell_type": "code",
   "execution_count": 51,
   "id": "e802aeea",
   "metadata": {},
   "outputs": [],
   "source": [
    "video_games_sales['Genre'] = le.fit_transform(video_games_sales['Genre'])\n",
    "video_games_sales['Publisher'] = le.fit_transform(video_games_sales['Publisher'])\n",
    "video_games_sales['Platform'] = le.fit_transform(video_games_sales['Platform'])"
   ]
  },
  {
   "cell_type": "markdown",
   "id": "01b8bf40",
   "metadata": {},
   "source": [
    "#### Checking the DataSet"
   ]
  },
  {
   "cell_type": "code",
   "execution_count": 52,
   "id": "49c8e589",
   "metadata": {},
   "outputs": [
    {
     "data": {
      "text/html": [
       "<div>\n",
       "<style scoped>\n",
       "    .dataframe tbody tr th:only-of-type {\n",
       "        vertical-align: middle;\n",
       "    }\n",
       "\n",
       "    .dataframe tbody tr th {\n",
       "        vertical-align: top;\n",
       "    }\n",
       "\n",
       "    .dataframe thead th {\n",
       "        text-align: right;\n",
       "    }\n",
       "</style>\n",
       "<table border=\"1\" class=\"dataframe\">\n",
       "  <thead>\n",
       "    <tr style=\"text-align: right;\">\n",
       "      <th></th>\n",
       "      <th>Name</th>\n",
       "      <th>Platform</th>\n",
       "      <th>Year_of_Release</th>\n",
       "      <th>Genre</th>\n",
       "      <th>Publisher</th>\n",
       "      <th>NA_Sales</th>\n",
       "      <th>EU_Sales</th>\n",
       "      <th>JP_Sales</th>\n",
       "      <th>Other_Sales</th>\n",
       "      <th>Global_Sales</th>\n",
       "      <th>Critic_Score</th>\n",
       "      <th>Critic_Count</th>\n",
       "      <th>User_Score</th>\n",
       "      <th>User_Count</th>\n",
       "      <th>Developer</th>\n",
       "      <th>Rating</th>\n",
       "    </tr>\n",
       "  </thead>\n",
       "  <tbody>\n",
       "    <tr>\n",
       "      <th>0</th>\n",
       "      <td>Wii Sports</td>\n",
       "      <td>26</td>\n",
       "      <td>2006.0</td>\n",
       "      <td>10</td>\n",
       "      <td>361</td>\n",
       "      <td>41.36</td>\n",
       "      <td>28.96</td>\n",
       "      <td>3.77</td>\n",
       "      <td>8.45</td>\n",
       "      <td>82.53</td>\n",
       "      <td>76.0</td>\n",
       "      <td>51.0</td>\n",
       "      <td>8</td>\n",
       "      <td>322.0</td>\n",
       "      <td>Nintendo</td>\n",
       "      <td>E</td>\n",
       "    </tr>\n",
       "    <tr>\n",
       "      <th>1</th>\n",
       "      <td>Super Mario Bros.</td>\n",
       "      <td>11</td>\n",
       "      <td>1985.0</td>\n",
       "      <td>4</td>\n",
       "      <td>361</td>\n",
       "      <td>29.08</td>\n",
       "      <td>3.58</td>\n",
       "      <td>6.81</td>\n",
       "      <td>0.77</td>\n",
       "      <td>40.24</td>\n",
       "      <td>NaN</td>\n",
       "      <td>NaN</td>\n",
       "      <td>NaN</td>\n",
       "      <td>NaN</td>\n",
       "      <td>NaN</td>\n",
       "      <td>NaN</td>\n",
       "    </tr>\n",
       "    <tr>\n",
       "      <th>2</th>\n",
       "      <td>Mario Kart Wii</td>\n",
       "      <td>26</td>\n",
       "      <td>2008.0</td>\n",
       "      <td>6</td>\n",
       "      <td>361</td>\n",
       "      <td>15.68</td>\n",
       "      <td>12.76</td>\n",
       "      <td>3.79</td>\n",
       "      <td>3.29</td>\n",
       "      <td>35.52</td>\n",
       "      <td>82.0</td>\n",
       "      <td>73.0</td>\n",
       "      <td>8.3</td>\n",
       "      <td>709.0</td>\n",
       "      <td>Nintendo</td>\n",
       "      <td>E</td>\n",
       "    </tr>\n",
       "    <tr>\n",
       "      <th>3</th>\n",
       "      <td>Wii Sports Resort</td>\n",
       "      <td>26</td>\n",
       "      <td>2009.0</td>\n",
       "      <td>10</td>\n",
       "      <td>361</td>\n",
       "      <td>15.61</td>\n",
       "      <td>10.93</td>\n",
       "      <td>3.28</td>\n",
       "      <td>2.95</td>\n",
       "      <td>32.77</td>\n",
       "      <td>80.0</td>\n",
       "      <td>73.0</td>\n",
       "      <td>8</td>\n",
       "      <td>192.0</td>\n",
       "      <td>Nintendo</td>\n",
       "      <td>E</td>\n",
       "    </tr>\n",
       "    <tr>\n",
       "      <th>4</th>\n",
       "      <td>Pokemon Red/Pokemon Blue</td>\n",
       "      <td>5</td>\n",
       "      <td>1996.0</td>\n",
       "      <td>7</td>\n",
       "      <td>361</td>\n",
       "      <td>11.27</td>\n",
       "      <td>8.89</td>\n",
       "      <td>10.22</td>\n",
       "      <td>1.00</td>\n",
       "      <td>31.37</td>\n",
       "      <td>NaN</td>\n",
       "      <td>NaN</td>\n",
       "      <td>NaN</td>\n",
       "      <td>NaN</td>\n",
       "      <td>NaN</td>\n",
       "      <td>NaN</td>\n",
       "    </tr>\n",
       "  </tbody>\n",
       "</table>\n",
       "</div>"
      ],
      "text/plain": [
       "                       Name  Platform  Year_of_Release  Genre  Publisher  \\\n",
       "0                Wii Sports        26           2006.0     10        361   \n",
       "1         Super Mario Bros.        11           1985.0      4        361   \n",
       "2            Mario Kart Wii        26           2008.0      6        361   \n",
       "3         Wii Sports Resort        26           2009.0     10        361   \n",
       "4  Pokemon Red/Pokemon Blue         5           1996.0      7        361   \n",
       "\n",
       "   NA_Sales  EU_Sales  JP_Sales  Other_Sales  Global_Sales  Critic_Score  \\\n",
       "0     41.36     28.96      3.77         8.45         82.53          76.0   \n",
       "1     29.08      3.58      6.81         0.77         40.24           NaN   \n",
       "2     15.68     12.76      3.79         3.29         35.52          82.0   \n",
       "3     15.61     10.93      3.28         2.95         32.77          80.0   \n",
       "4     11.27      8.89     10.22         1.00         31.37           NaN   \n",
       "\n",
       "   Critic_Count User_Score  User_Count Developer Rating  \n",
       "0          51.0          8       322.0  Nintendo      E  \n",
       "1           NaN        NaN         NaN       NaN    NaN  \n",
       "2          73.0        8.3       709.0  Nintendo      E  \n",
       "3          73.0          8       192.0  Nintendo      E  \n",
       "4           NaN        NaN         NaN       NaN    NaN  "
      ]
     },
     "execution_count": 52,
     "metadata": {},
     "output_type": "execute_result"
    }
   ],
   "source": [
    "video_games_sales.head()"
   ]
  },
  {
   "cell_type": "markdown",
   "id": "95b4373c",
   "metadata": {},
   "source": [
    "#### Identifying target variable and inputs"
   ]
  },
  {
   "cell_type": "code",
   "execution_count": 53,
   "id": "50506c0d",
   "metadata": {},
   "outputs": [],
   "source": [
    "y = video_games_sales[['Global_Sales']]\n",
    "x = video_games_sales[['Platform','Genre','Publisher','NA_Sales','EU_Sales','JP_Sales','Other_Sales']]"
   ]
  },
  {
   "cell_type": "markdown",
   "id": "4f6cbc5b",
   "metadata": {},
   "source": [
    "#### Importing the Library, Splitting the data & checking length of DataSet"
   ]
  },
  {
   "cell_type": "code",
   "execution_count": 54,
   "id": "9186f457",
   "metadata": {},
   "outputs": [],
   "source": [
    "## Importing the library\n",
    "from sklearn.model_selection import train_test_split"
   ]
  },
  {
   "cell_type": "code",
   "execution_count": 55,
   "id": "e836a047",
   "metadata": {},
   "outputs": [],
   "source": [
    "## Splityting the data into Test and Train\n",
    "x_train,x_test,y_train,y_test = train_test_split(x,y,test_size=0.2,random_state=42)"
   ]
  },
  {
   "cell_type": "code",
   "execution_count": 56,
   "id": "038affc6",
   "metadata": {},
   "outputs": [
    {
     "data": {
      "text/plain": [
       "(13375, 3344, 13375, 3344)"
      ]
     },
     "execution_count": 56,
     "metadata": {},
     "output_type": "execute_result"
    }
   ],
   "source": [
    "## Checking the length of X,Y train and test\n",
    "len(x_train),len(x_test),len(y_train),len(y_test)"
   ]
  },
  {
   "cell_type": "markdown",
   "id": "a6e033d3",
   "metadata": {},
   "source": [
    "### Artificial Neural Network ( ANN )"
   ]
  },
  {
   "cell_type": "markdown",
   "id": "3400c0ea",
   "metadata": {},
   "source": [
    "### Step 1: Initialising the model and creating the input layer"
   ]
  },
  {
   "cell_type": "code",
   "execution_count": 57,
   "id": "eb9e15fb",
   "metadata": {},
   "outputs": [],
   "source": [
    "ann = tf.keras.models.Sequential()"
   ]
  },
  {
   "cell_type": "markdown",
   "id": "5cf04acf",
   "metadata": {},
   "source": [
    "### Step 2: Creating the first hidden layer"
   ]
  },
  {
   "cell_type": "code",
   "execution_count": 58,
   "id": "338ccf8d",
   "metadata": {},
   "outputs": [],
   "source": [
    "## Considering hidden unit layers as 6\n",
    "ann.add(tf.keras.layers.Dense(units=6,activation='relu'))"
   ]
  },
  {
   "cell_type": "markdown",
   "id": "48a87b2d",
   "metadata": {},
   "source": [
    "### Step 3: Creating the second hidden layer"
   ]
  },
  {
   "cell_type": "code",
   "execution_count": 59,
   "id": "fe90009b",
   "metadata": {},
   "outputs": [],
   "source": [
    "## Considering hidden unit layers as 6\n",
    "ann.add(tf.keras.layers.Dense(units=6,activation='relu'))"
   ]
  },
  {
   "cell_type": "markdown",
   "id": "bcaef9fe",
   "metadata": {},
   "source": [
    "### Step 4: Creating the output layer"
   ]
  },
  {
   "cell_type": "code",
   "execution_count": 60,
   "id": "24d6973e",
   "metadata": {},
   "outputs": [],
   "source": [
    "#The number of units in output column should be n-1, where n is the number of categories in output column\n",
    "ann.add(tf.keras.layers.Dense(units=1,activation='linear'))"
   ]
  },
  {
   "cell_type": "markdown",
   "id": "5493fc61",
   "metadata": {},
   "source": [
    "#### Checking for unique value in target Column"
   ]
  },
  {
   "cell_type": "code",
   "execution_count": 61,
   "id": "810b76b0",
   "metadata": {},
   "outputs": [
    {
     "data": {
      "text/plain": [
       "629"
      ]
     },
     "execution_count": 61,
     "metadata": {},
     "output_type": "execute_result"
    }
   ],
   "source": [
    "video_games_sales['Global_Sales'].nunique()"
   ]
  },
  {
   "cell_type": "markdown",
   "id": "6e9860d0",
   "metadata": {},
   "source": [
    "### Step 5: Compiling the model"
   ]
  },
  {
   "cell_type": "code",
   "execution_count": 62,
   "id": "045f62f3",
   "metadata": {},
   "outputs": [],
   "source": [
    "ann.compile(optimizer='adam',loss='MSE',metrics='MAE')"
   ]
  },
  {
   "cell_type": "markdown",
   "id": "d7ef6c18",
   "metadata": {},
   "source": [
    "### Note :- As the problem is of Regression Model loss and Netrice function MSE & MAE i.e Mean Square Error & Mean Absolute error is used"
   ]
  },
  {
   "cell_type": "markdown",
   "id": "a0dfa0c0",
   "metadata": {},
   "source": [
    "### Step 6: Fitting the data"
   ]
  },
  {
   "cell_type": "code",
   "execution_count": 63,
   "id": "823cefb9",
   "metadata": {},
   "outputs": [
    {
     "name": "stdout",
     "output_type": "stream",
     "text": [
      "Epoch 1/100\n",
      "335/335 [==============================] - 3s 4ms/step - loss: 4.5960 - MAE: 1.1431 - val_loss: 2.7821 - val_MAE: 0.6262\n",
      "Epoch 2/100\n",
      "335/335 [==============================] - 1s 3ms/step - loss: 1.5723 - MAE: 0.5423 - val_loss: 1.6985 - val_MAE: 0.5268\n",
      "Epoch 3/100\n",
      "335/335 [==============================] - 1s 3ms/step - loss: 0.8666 - MAE: 0.4032 - val_loss: 0.9220 - val_MAE: 0.2938\n",
      "Epoch 4/100\n",
      "335/335 [==============================] - 1s 3ms/step - loss: 0.3882 - MAE: 0.2583 - val_loss: 0.3809 - val_MAE: 0.1976\n",
      "Epoch 5/100\n",
      "335/335 [==============================] - 1s 3ms/step - loss: 0.1650 - MAE: 0.1692 - val_loss: 0.1683 - val_MAE: 0.1325\n",
      "Epoch 6/100\n",
      "335/335 [==============================] - 1s 3ms/step - loss: 0.0947 - MAE: 0.1406 - val_loss: 0.0994 - val_MAE: 0.1113\n",
      "Epoch 7/100\n",
      "335/335 [==============================] - 1s 3ms/step - loss: 0.0670 - MAE: 0.1264 - val_loss: 0.0732 - val_MAE: 0.1209\n",
      "Epoch 8/100\n",
      "335/335 [==============================] - 1s 3ms/step - loss: 0.0515 - MAE: 0.1145 - val_loss: 0.0538 - val_MAE: 0.1126\n",
      "Epoch 9/100\n",
      "335/335 [==============================] - 1s 3ms/step - loss: 0.0392 - MAE: 0.1037 - val_loss: 0.0394 - val_MAE: 0.0740\n",
      "Epoch 10/100\n",
      "335/335 [==============================] - 1s 3ms/step - loss: 0.0303 - MAE: 0.0922 - val_loss: 0.0342 - val_MAE: 0.0899\n",
      "Epoch 11/100\n",
      "335/335 [==============================] - 1s 3ms/step - loss: 0.0241 - MAE: 0.0859 - val_loss: 0.0279 - val_MAE: 0.0714\n",
      "Epoch 12/100\n",
      "335/335 [==============================] - 1s 3ms/step - loss: 0.0145 - MAE: 0.0577 - val_loss: 0.0228 - val_MAE: 0.0557\n",
      "Epoch 13/100\n",
      "335/335 [==============================] - 1s 3ms/step - loss: 0.0102 - MAE: 0.0488 - val_loss: 0.0229 - val_MAE: 0.0759\n",
      "Epoch 14/100\n",
      "335/335 [==============================] - 1s 3ms/step - loss: 0.0080 - MAE: 0.0483 - val_loss: 0.0205 - val_MAE: 0.0711\n",
      "Epoch 15/100\n",
      "335/335 [==============================] - 1s 3ms/step - loss: 0.0046 - MAE: 0.0356 - val_loss: 0.0152 - val_MAE: 0.0343\n",
      "Epoch 16/100\n",
      "335/335 [==============================] - 1s 3ms/step - loss: 0.0040 - MAE: 0.0375 - val_loss: 0.0126 - val_MAE: 0.0290\n",
      "Epoch 17/100\n",
      "335/335 [==============================] - 1s 3ms/step - loss: 0.0035 - MAE: 0.0357 - val_loss: 0.0214 - val_MAE: 0.0877\n",
      "Epoch 18/100\n",
      "335/335 [==============================] - 1s 3ms/step - loss: 0.0032 - MAE: 0.0358 - val_loss: 0.0115 - val_MAE: 0.0212\n",
      "Epoch 19/100\n",
      "335/335 [==============================] - 1s 3ms/step - loss: 0.0012 - MAE: 0.0216 - val_loss: 0.0143 - val_MAE: 0.0532\n",
      "Epoch 20/100\n",
      "335/335 [==============================] - 1s 3ms/step - loss: 0.0022 - MAE: 0.0273 - val_loss: 0.0117 - val_MAE: 0.0133\n",
      "Epoch 21/100\n",
      "335/335 [==============================] - 1s 3ms/step - loss: 0.0039 - MAE: 0.0418 - val_loss: 0.0119 - val_MAE: 0.0250\n",
      "Epoch 22/100\n",
      "335/335 [==============================] - 1s 3ms/step - loss: 0.0016 - MAE: 0.0251 - val_loss: 0.0114 - val_MAE: 0.0101\n",
      "Epoch 23/100\n",
      "335/335 [==============================] - 1s 3ms/step - loss: 0.0014 - MAE: 0.0254 - val_loss: 0.0113 - val_MAE: 0.0130\n",
      "Epoch 24/100\n",
      "335/335 [==============================] - 1s 3ms/step - loss: 8.4344e-04 - MAE: 0.0189 - val_loss: 0.0123 - val_MAE: 0.0330\n",
      "Epoch 25/100\n",
      "335/335 [==============================] - 1s 3ms/step - loss: 0.0067 - MAE: 0.0368 - val_loss: 0.0111 - val_MAE: 0.0119\n",
      "Epoch 26/100\n",
      "335/335 [==============================] - 1s 3ms/step - loss: 1.8792e-04 - MAE: 0.0092 - val_loss: 0.0111 - val_MAE: 0.0082\n",
      "Epoch 27/100\n",
      "335/335 [==============================] - 1s 3ms/step - loss: 0.0015 - MAE: 0.0242 - val_loss: 0.0109 - val_MAE: 0.0105\n",
      "Epoch 28/100\n",
      "335/335 [==============================] - 1s 3ms/step - loss: 0.0015 - MAE: 0.0249 - val_loss: 0.0113 - val_MAE: 0.0232\n",
      "Epoch 29/100\n",
      "335/335 [==============================] - 1s 3ms/step - loss: 0.0017 - MAE: 0.0257 - val_loss: 0.0117 - val_MAE: 0.0325\n",
      "Epoch 30/100\n",
      "335/335 [==============================] - 1s 3ms/step - loss: 0.0047 - MAE: 0.0332 - val_loss: 0.0108 - val_MAE: 0.0107\n",
      "Epoch 31/100\n",
      "335/335 [==============================] - 1s 3ms/step - loss: 1.3366e-04 - MAE: 0.0082 - val_loss: 0.0107 - val_MAE: 0.0149\n",
      "Epoch 32/100\n",
      "335/335 [==============================] - 1s 3ms/step - loss: 0.0014 - MAE: 0.0220 - val_loss: 0.0106 - val_MAE: 0.0148\n",
      "Epoch 33/100\n",
      "335/335 [==============================] - 1s 3ms/step - loss: 0.0041 - MAE: 0.0273 - val_loss: 0.0106 - val_MAE: 0.0073\n",
      "Epoch 34/100\n",
      "335/335 [==============================] - 1s 3ms/step - loss: 9.4204e-04 - MAE: 0.0178 - val_loss: 0.0253 - val_MAE: 0.1059\n",
      "Epoch 35/100\n",
      "335/335 [==============================] - 1s 3ms/step - loss: 0.0066 - MAE: 0.0414 - val_loss: 0.0102 - val_MAE: 0.0081\n",
      "Epoch 36/100\n",
      "335/335 [==============================] - 1s 3ms/step - loss: 7.0104e-05 - MAE: 0.0059 - val_loss: 0.0103 - val_MAE: 0.0136\n",
      "Epoch 37/100\n",
      "335/335 [==============================] - 1s 3ms/step - loss: 4.7095e-04 - MAE: 0.0156 - val_loss: 0.0107 - val_MAE: 0.0291\n",
      "Epoch 38/100\n",
      "335/335 [==============================] - 1s 3ms/step - loss: 0.0016 - MAE: 0.0254 - val_loss: 0.0173 - val_MAE: 0.0734\n",
      "Epoch 39/100\n",
      "335/335 [==============================] - 1s 3ms/step - loss: 0.0027 - MAE: 0.0311 - val_loss: 0.0207 - val_MAE: 0.0909\n",
      "Epoch 40/100\n",
      "335/335 [==============================] - 1s 3ms/step - loss: 8.8131e-04 - MAE: 0.0185 - val_loss: 0.0107 - val_MAE: 0.0233\n",
      "Epoch 41/100\n",
      "335/335 [==============================] - 1s 3ms/step - loss: 7.8390e-04 - MAE: 0.0191 - val_loss: 0.0099 - val_MAE: 0.0113\n",
      "Epoch 42/100\n",
      "335/335 [==============================] - 1s 3ms/step - loss: 0.0064 - MAE: 0.0452 - val_loss: 0.0098 - val_MAE: 0.0087\n",
      "Epoch 43/100\n",
      "335/335 [==============================] - 1s 3ms/step - loss: 2.0175e-04 - MAE: 0.0087 - val_loss: 0.0126 - val_MAE: 0.0414\n",
      "Epoch 44/100\n",
      "335/335 [==============================] - 1s 3ms/step - loss: 0.0070 - MAE: 0.0383 - val_loss: 0.0175 - val_MAE: 0.0779\n",
      "Epoch 45/100\n",
      "335/335 [==============================] - 1s 3ms/step - loss: 3.4149e-04 - MAE: 0.0099 - val_loss: 0.0098 - val_MAE: 0.0085\n",
      "Epoch 46/100\n",
      "335/335 [==============================] - 1s 3ms/step - loss: 1.0323e-04 - MAE: 0.0075 - val_loss: 0.0101 - val_MAE: 0.0176\n",
      "Epoch 47/100\n",
      "335/335 [==============================] - 1s 3ms/step - loss: 4.9220e-04 - MAE: 0.0144 - val_loss: 0.0097 - val_MAE: 0.0113\n",
      "Epoch 48/100\n",
      "335/335 [==============================] - 1s 3ms/step - loss: 0.0062 - MAE: 0.0561 - val_loss: 0.0108 - val_MAE: 0.0284\n",
      "Epoch 49/100\n",
      "335/335 [==============================] - 1s 3ms/step - loss: 1.2553e-04 - MAE: 0.0082 - val_loss: 0.0108 - val_MAE: 0.0264\n",
      "Epoch 50/100\n",
      "335/335 [==============================] - 1s 3ms/step - loss: 4.4201e-04 - MAE: 0.0150 - val_loss: 0.0108 - val_MAE: 0.0230\n",
      "Epoch 51/100\n",
      "335/335 [==============================] - 1s 3ms/step - loss: 0.0022 - MAE: 0.0258 - val_loss: 0.0284 - val_MAE: 0.1253\n",
      "Epoch 52/100\n",
      "335/335 [==============================] - 1s 3ms/step - loss: 0.0018 - MAE: 0.0282 - val_loss: 0.0097 - val_MAE: 0.0109\n",
      "Epoch 53/100\n",
      "335/335 [==============================] - 1s 3ms/step - loss: 0.0026 - MAE: 0.0317 - val_loss: 0.0111 - val_MAE: 0.0309\n",
      "Epoch 54/100\n",
      "335/335 [==============================] - 1s 3ms/step - loss: 0.0012 - MAE: 0.0185 - val_loss: 0.0095 - val_MAE: 0.0142\n",
      "Epoch 55/100\n",
      "335/335 [==============================] - 1s 3ms/step - loss: 0.0012 - MAE: 0.0197 - val_loss: 0.0100 - val_MAE: 0.0089\n",
      "Epoch 56/100\n",
      "335/335 [==============================] - 1s 3ms/step - loss: 0.0013 - MAE: 0.0180 - val_loss: 0.0096 - val_MAE: 0.0107\n",
      "Epoch 57/100\n",
      "335/335 [==============================] - 1s 3ms/step - loss: 0.0036 - MAE: 0.0418 - val_loss: 0.0142 - val_MAE: 0.0632\n",
      "Epoch 58/100\n",
      "335/335 [==============================] - 1s 3ms/step - loss: 0.0010 - MAE: 0.0208 - val_loss: 0.0102 - val_MAE: 0.0202\n",
      "Epoch 59/100\n",
      "335/335 [==============================] - 1s 3ms/step - loss: 3.9314e-04 - MAE: 0.0129 - val_loss: 0.0102 - val_MAE: 0.0223\n",
      "Epoch 60/100\n",
      "335/335 [==============================] - 1s 3ms/step - loss: 0.0045 - MAE: 0.0392 - val_loss: 0.0101 - val_MAE: 0.0222\n",
      "Epoch 61/100\n",
      "335/335 [==============================] - 1s 3ms/step - loss: 2.3963e-04 - MAE: 0.0108 - val_loss: 0.0096 - val_MAE: 0.0073\n"
     ]
    },
    {
     "name": "stdout",
     "output_type": "stream",
     "text": [
      "Epoch 62/100\n",
      "335/335 [==============================] - 1s 3ms/step - loss: 0.0016 - MAE: 0.0184 - val_loss: 0.0096 - val_MAE: 0.0152\n",
      "Epoch 63/100\n",
      "335/335 [==============================] - 1s 3ms/step - loss: 0.0059 - MAE: 0.0316 - val_loss: 0.1379 - val_MAE: 0.2990\n",
      "Epoch 64/100\n",
      "335/335 [==============================] - 1s 3ms/step - loss: 0.0225 - MAE: 0.0509 - val_loss: 0.0093 - val_MAE: 0.0071\n",
      "Epoch 65/100\n",
      "335/335 [==============================] - 1s 3ms/step - loss: 4.5489e-05 - MAE: 0.0047 - val_loss: 0.0090 - val_MAE: 0.0082\n",
      "Epoch 66/100\n",
      "335/335 [==============================] - 1s 3ms/step - loss: 4.7805e-05 - MAE: 0.0051 - val_loss: 0.0090 - val_MAE: 0.0079\n",
      "Epoch 67/100\n",
      "335/335 [==============================] - 1s 3ms/step - loss: 7.6515e-05 - MAE: 0.0065 - val_loss: 0.0086 - val_MAE: 0.0083\n",
      "Epoch 68/100\n",
      "335/335 [==============================] - 1s 3ms/step - loss: 9.9319e-05 - MAE: 0.0074 - val_loss: 0.0086 - val_MAE: 0.0062\n",
      "Epoch 69/100\n",
      "335/335 [==============================] - 1s 3ms/step - loss: 2.2670e-04 - MAE: 0.0101 - val_loss: 0.0088 - val_MAE: 0.0108\n",
      "Epoch 70/100\n",
      "335/335 [==============================] - 1s 3ms/step - loss: 0.0072 - MAE: 0.0437 - val_loss: 0.0099 - val_MAE: 0.0096\n",
      "Epoch 71/100\n",
      "335/335 [==============================] - 1s 3ms/step - loss: 2.3683e-04 - MAE: 0.0106 - val_loss: 0.0083 - val_MAE: 0.0106\n",
      "Epoch 72/100\n",
      "335/335 [==============================] - 1s 3ms/step - loss: 1.6079e-04 - MAE: 0.0091 - val_loss: 0.0082 - val_MAE: 0.0074\n",
      "Epoch 73/100\n",
      "335/335 [==============================] - 1s 3ms/step - loss: 0.0014 - MAE: 0.0204 - val_loss: 0.0083 - val_MAE: 0.0083\n",
      "Epoch 74/100\n",
      "335/335 [==============================] - 1s 3ms/step - loss: 0.0015 - MAE: 0.0246 - val_loss: 0.0085 - val_MAE: 0.0098\n",
      "Epoch 75/100\n",
      "335/335 [==============================] - 1s 3ms/step - loss: 0.0060 - MAE: 0.0411 - val_loss: 0.0073 - val_MAE: 0.0116\n",
      "Epoch 76/100\n",
      "335/335 [==============================] - 1s 3ms/step - loss: 6.1500e-05 - MAE: 0.0059 - val_loss: 0.0078 - val_MAE: 0.0144\n",
      "Epoch 77/100\n",
      "335/335 [==============================] - 1s 3ms/step - loss: 2.1859e-04 - MAE: 0.0107 - val_loss: 0.0078 - val_MAE: 0.0156\n",
      "Epoch 78/100\n",
      "335/335 [==============================] - 1s 3ms/step - loss: 0.0053 - MAE: 0.0358 - val_loss: 0.0067 - val_MAE: 0.0081\n",
      "Epoch 79/100\n",
      "335/335 [==============================] - 1s 3ms/step - loss: 1.2065e-04 - MAE: 0.0079 - val_loss: 0.0077 - val_MAE: 0.0138\n",
      "Epoch 80/100\n",
      "335/335 [==============================] - 1s 3ms/step - loss: 5.3155e-04 - MAE: 0.0125 - val_loss: 0.0109 - val_MAE: 0.0128\n",
      "Epoch 81/100\n",
      "335/335 [==============================] - 1s 3ms/step - loss: 0.0023 - MAE: 0.0278 - val_loss: 0.0065 - val_MAE: 0.0216\n",
      "Epoch 82/100\n",
      "335/335 [==============================] - 1s 3ms/step - loss: 0.0011 - MAE: 0.0207 - val_loss: 0.0074 - val_MAE: 0.0090\n",
      "Epoch 83/100\n",
      "335/335 [==============================] - 1s 3ms/step - loss: 0.0010 - MAE: 0.0219 - val_loss: 0.0066 - val_MAE: 0.0068\n",
      "Epoch 84/100\n",
      "335/335 [==============================] - 1s 3ms/step - loss: 0.0021 - MAE: 0.0262 - val_loss: 0.0165 - val_MAE: 0.0841\n",
      "Epoch 85/100\n",
      "335/335 [==============================] - 1s 3ms/step - loss: 6.4011e-04 - MAE: 0.0167 - val_loss: 0.0072 - val_MAE: 0.0138\n",
      "Epoch 86/100\n",
      "335/335 [==============================] - 1s 3ms/step - loss: 0.0026 - MAE: 0.0301 - val_loss: 0.0071 - val_MAE: 0.0103\n",
      "Epoch 87/100\n",
      "335/335 [==============================] - 1s 3ms/step - loss: 0.0013 - MAE: 0.0188 - val_loss: 0.0069 - val_MAE: 0.0111\n",
      "Epoch 88/100\n",
      "335/335 [==============================] - 1s 3ms/step - loss: 1.6515e-04 - MAE: 0.0093 - val_loss: 0.0073 - val_MAE: 0.0238\n",
      "Epoch 89/100\n",
      "335/335 [==============================] - 1s 3ms/step - loss: 0.0043 - MAE: 0.0358 - val_loss: 0.0063 - val_MAE: 0.0075\n",
      "Epoch 90/100\n",
      "335/335 [==============================] - 1s 3ms/step - loss: 1.1787e-04 - MAE: 0.0080 - val_loss: 0.0076 - val_MAE: 0.0077\n",
      "Epoch 91/100\n",
      "335/335 [==============================] - 1s 3ms/step - loss: 0.0021 - MAE: 0.0289 - val_loss: 0.0053 - val_MAE: 0.0094\n",
      "Epoch 92/100\n",
      "335/335 [==============================] - 1s 3ms/step - loss: 3.3206e-04 - MAE: 0.0115 - val_loss: 0.0065 - val_MAE: 0.0299\n",
      "Epoch 93/100\n",
      "335/335 [==============================] - 1s 3ms/step - loss: 0.0021 - MAE: 0.0216 - val_loss: 0.0065 - val_MAE: 0.0174\n",
      "Epoch 94/100\n",
      "335/335 [==============================] - 1s 3ms/step - loss: 0.0047 - MAE: 0.0358 - val_loss: 0.0104 - val_MAE: 0.0563\n",
      "Epoch 95/100\n",
      "335/335 [==============================] - 1s 3ms/step - loss: 6.2144e-04 - MAE: 0.0145 - val_loss: 0.0066 - val_MAE: 0.0064\n",
      "Epoch 96/100\n",
      "335/335 [==============================] - 1s 3ms/step - loss: 3.0868e-04 - MAE: 0.0118 - val_loss: 0.0089 - val_MAE: 0.0581\n",
      "Epoch 97/100\n",
      "335/335 [==============================] - 1s 3ms/step - loss: 0.0018 - MAE: 0.0263 - val_loss: 0.0145 - val_MAE: 0.0823\n",
      "Epoch 98/100\n",
      "335/335 [==============================] - 1s 3ms/step - loss: 0.0012 - MAE: 0.0204 - val_loss: 0.0093 - val_MAE: 0.0621\n",
      "Epoch 99/100\n",
      "335/335 [==============================] - 1s 3ms/step - loss: 0.0022 - MAE: 0.0277 - val_loss: 0.0067 - val_MAE: 0.0206\n",
      "Epoch 100/100\n",
      "335/335 [==============================] - 1s 3ms/step - loss: 8.9688e-04 - MAE: 0.0199 - val_loss: 0.0061 - val_MAE: 0.0244\n"
     ]
    }
   ],
   "source": [
    "model = ann.fit(x_train,y_train,validation_split=0.2,batch_size=32,epochs=100)"
   ]
  },
  {
   "cell_type": "markdown",
   "id": "d8ccc9de",
   "metadata": {},
   "source": [
    "### Prediction on Test Data"
   ]
  },
  {
   "cell_type": "code",
   "execution_count": 64,
   "id": "d8ffc320",
   "metadata": {},
   "outputs": [
    {
     "name": "stdout",
     "output_type": "stream",
     "text": [
      "105/105 [==============================] - 0s 2ms/step\n"
     ]
    }
   ],
   "source": [
    "y_test['Prediction'] = ann.predict(x_test)"
   ]
  },
  {
   "cell_type": "code",
   "execution_count": 65,
   "id": "15c64758",
   "metadata": {},
   "outputs": [
    {
     "data": {
      "text/html": [
       "<div>\n",
       "<style scoped>\n",
       "    .dataframe tbody tr th:only-of-type {\n",
       "        vertical-align: middle;\n",
       "    }\n",
       "\n",
       "    .dataframe tbody tr th {\n",
       "        vertical-align: top;\n",
       "    }\n",
       "\n",
       "    .dataframe thead th {\n",
       "        text-align: right;\n",
       "    }\n",
       "</style>\n",
       "<table border=\"1\" class=\"dataframe\">\n",
       "  <thead>\n",
       "    <tr style=\"text-align: right;\">\n",
       "      <th></th>\n",
       "      <th>Global_Sales</th>\n",
       "      <th>Prediction</th>\n",
       "    </tr>\n",
       "  </thead>\n",
       "  <tbody>\n",
       "    <tr>\n",
       "      <th>6991</th>\n",
       "      <td>0.23</td>\n",
       "      <td>0.260938</td>\n",
       "    </tr>\n",
       "    <tr>\n",
       "      <th>16195</th>\n",
       "      <td>0.01</td>\n",
       "      <td>0.021510</td>\n",
       "    </tr>\n",
       "    <tr>\n",
       "      <th>9862</th>\n",
       "      <td>0.12</td>\n",
       "      <td>0.155501</td>\n",
       "    </tr>\n",
       "    <tr>\n",
       "      <th>11152</th>\n",
       "      <td>0.09</td>\n",
       "      <td>0.117765</td>\n",
       "    </tr>\n",
       "    <tr>\n",
       "      <th>8642</th>\n",
       "      <td>0.16</td>\n",
       "      <td>0.163074</td>\n",
       "    </tr>\n",
       "    <tr>\n",
       "      <th>...</th>\n",
       "      <td>...</td>\n",
       "      <td>...</td>\n",
       "    </tr>\n",
       "    <tr>\n",
       "      <th>2452</th>\n",
       "      <td>0.84</td>\n",
       "      <td>0.848212</td>\n",
       "    </tr>\n",
       "    <tr>\n",
       "      <th>1237</th>\n",
       "      <td>1.52</td>\n",
       "      <td>1.535399</td>\n",
       "    </tr>\n",
       "    <tr>\n",
       "      <th>11784</th>\n",
       "      <td>0.07</td>\n",
       "      <td>0.099101</td>\n",
       "    </tr>\n",
       "    <tr>\n",
       "      <th>16325</th>\n",
       "      <td>0.01</td>\n",
       "      <td>0.031394</td>\n",
       "    </tr>\n",
       "    <tr>\n",
       "      <th>12077</th>\n",
       "      <td>0.07</td>\n",
       "      <td>0.069119</td>\n",
       "    </tr>\n",
       "  </tbody>\n",
       "</table>\n",
       "<p>3344 rows × 2 columns</p>\n",
       "</div>"
      ],
      "text/plain": [
       "       Global_Sales  Prediction\n",
       "6991           0.23    0.260938\n",
       "16195          0.01    0.021510\n",
       "9862           0.12    0.155501\n",
       "11152          0.09    0.117765\n",
       "8642           0.16    0.163074\n",
       "...             ...         ...\n",
       "2452           0.84    0.848212\n",
       "1237           1.52    1.535399\n",
       "11784          0.07    0.099101\n",
       "16325          0.01    0.031394\n",
       "12077          0.07    0.069119\n",
       "\n",
       "[3344 rows x 2 columns]"
      ]
     },
     "execution_count": 65,
     "metadata": {},
     "output_type": "execute_result"
    }
   ],
   "source": [
    "y_test"
   ]
  },
  {
   "cell_type": "markdown",
   "id": "53c066df",
   "metadata": {},
   "source": [
    "### Note :- As the problem is of regression the Accuracy cannot be predicted. It Can be calculated on the basic of MAE & val_MAE"
   ]
  },
  {
   "cell_type": "markdown",
   "id": "cfabd7af",
   "metadata": {},
   "source": [
    "                            - - - - - - - - X X X X X X X X - - - - - - - -"
   ]
  },
  {
   "cell_type": "code",
   "execution_count": null,
   "id": "4d907f92",
   "metadata": {},
   "outputs": [],
   "source": []
  }
 ],
 "metadata": {
  "kernelspec": {
   "display_name": "Python 3 (ipykernel)",
   "language": "python",
   "name": "python3"
  },
  "language_info": {
   "codemirror_mode": {
    "name": "ipython",
    "version": 3
   },
   "file_extension": ".py",
   "mimetype": "text/x-python",
   "name": "python",
   "nbconvert_exporter": "python",
   "pygments_lexer": "ipython3",
   "version": "3.9.13"
  }
 },
 "nbformat": 4,
 "nbformat_minor": 5
}
